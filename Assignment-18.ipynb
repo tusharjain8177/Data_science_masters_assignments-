{
 "cells": [
  {
   "cell_type": "markdown",
   "metadata": {},
   "source": [
    "# Assignment 18"
   ]
  },
  {
   "cell_type": "markdown",
   "metadata": {},
   "source": [
    "1. What is Flask Framework? What are the advantages of Flask Framework?"
   ]
  },
  {
   "cell_type": "markdown",
   "metadata": {},
   "source": [
    "Ans: Flask is a micro web framework written in Python that is used for building web applications. It is a lightweight framework that allows developers to quickly build web applications with minimal overhead. Some of the advantages of using Flask include:\n",
    "\n",
    "1. Lightweight and flexible: Flask is a lightweight and flexible framework that allows developers to build web applications quickly and easily. It is easy to learn and can be used for building small to medium-sized web applications.\n",
    "\n",
    "2. Easy to get started: Flask is easy to get started with and requires minimal setup. Developers can get started with Flask in just a few lines of code.\n",
    "\n",
    "3. Extensible: Flask is an extensible framework that can be easily customized to suit the needs of the developer. It provides a wide range of extensions and plugins that can be used to add additional functionality to the web application.\n",
    "\n",
    "4. Modular design: Flask is designed with a modular structure, which makes it easy to understand and maintain. This makes it an ideal framework for building complex web applications.\n",
    "\n",
    "5. Built-in development server: Flask comes with a built-in development server that allows developers to test their web applications locally. This makes it easy to debug and test the application during development.\n",
    "\n",
    "6. Large community: Flask has a large community of developers who contribute to the framework by creating plugins, extensions, and documentation."
   ]
  },
  {
   "cell_type": "code",
   "execution_count": 1,
   "metadata": {},
   "outputs": [
    {
     "name": "stdout",
     "output_type": "stream",
     "text": [
      " * Serving Flask app '__main__' (lazy loading)\n",
      " * Environment: production\n",
      "\u001b[31m   WARNING: This is a development server. Do not use it in a production deployment.\u001b[0m\n",
      "\u001b[2m   Use a production WSGI server instead.\u001b[0m\n",
      " * Debug mode: off\n"
     ]
    },
    {
     "name": "stderr",
     "output_type": "stream",
     "text": [
      " * Running on http://127.0.0.1:5000 (Press CTRL+C to quit)\n"
     ]
    }
   ],
   "source": [
    "from flask import Flask\n",
    "\n",
    "app = Flask(__name__)\n",
    "\n",
    "@app.route('/')\n",
    "def hello_world():\n",
    "    return 'Hello World!'\n",
    "\n",
    "if __name__ == '__main__':\n",
    "    app.run()\n"
   ]
  },
  {
   "cell_type": "markdown",
   "metadata": {},
   "source": [
    "3. What is App routing in Flask? Why do we use app routes?"
   ]
  },
  {
   "cell_type": "markdown",
   "metadata": {},
   "source": [
    "App routing in Flask refers to the process of mapping URLs to the functions or views that handle them in a Flask application. In Flask, we use the `@app.route()` decorator to define the URL patterns that our application should respond to.\n",
    "\n",
    "For example, suppose we have a Flask application that needs to handle requests for a homepage and a user profile page. We could define routes for these pages like this:\n",
    "\n",
    "```\n",
    "from flask import Flask\n",
    "\n",
    "app = Flask(__name__)\n",
    "\n",
    "@app.route('/')\n",
    "def index():\n",
    "    return 'This is the homepage.'\n",
    "\n",
    "@app.route('/user/<username>')\n",
    "def profile(username):\n",
    "    return f'This is the profile page for {username}.'\n",
    "```\n",
    "\n",
    "In this example, we have defined two routes. The first route maps the URL \"/\" to the `index` function, which returns the message \"This is the homepage.\" The second route maps the URL \"/user/username\" to the `profile` function, which takes the `username` parameter from the URL and uses it to construct a personalized message.\n",
    "\n",
    "We use app routes in Flask to create a logical structure for our application and to map URLs to the code that will generate the appropriate response. By using app routes, we can keep our code organized and make it easier to maintain and update our application. Additionally, app routes help us create RESTful web services by mapping HTTP methods (like GET, POST, PUT, and DELETE) to the appropriate functions or views in our application."
   ]
  },
  {
   "cell_type": "markdown",
   "metadata": {},
   "source": [
    "4. Create a “/welcome” route to display the welcome message “Welcome to ABC Corporation” and a “/”\n",
    "\n",
    "    route to show the following details:\n",
    "\n",
    "    Company Name: ABC Corporation\n",
    "\n",
    "    Location: India\n",
    "\n",
    "    Contact Detail: 999-999-9999"
   ]
  },
  {
   "cell_type": "code",
   "execution_count": 2,
   "metadata": {},
   "outputs": [
    {
     "name": "stdout",
     "output_type": "stream",
     "text": [
      " * Serving Flask app '__main__' (lazy loading)\n",
      " * Environment: production\n",
      "\u001b[31m   WARNING: This is a development server. Do not use it in a production deployment.\u001b[0m\n",
      "\u001b[2m   Use a production WSGI server instead.\u001b[0m\n",
      " * Debug mode: off\n"
     ]
    },
    {
     "name": "stderr",
     "output_type": "stream",
     "text": [
      " * Running on http://127.0.0.1:5000 (Press CTRL+C to quit)\n"
     ]
    }
   ],
   "source": [
    "from flask import Flask\n",
    "\n",
    "app = Flask(__name__)\n",
    "\n",
    "@app.route('/welcome')\n",
    "def welcome():\n",
    "    return 'Welcome to ABC Corporation'\n",
    "\n",
    "@app.route('/')\n",
    "def company_details():\n",
    "    return 'Company Name: ABC Corporation<br>Location: India<br>Contact Detail: 999-999-9999'\n",
    "\n",
    "if __name__ == '__main__':\n",
    "    app.run()\n"
   ]
  },
  {
   "cell_type": "markdown",
   "metadata": {},
   "source": [
    "![\"\"](1.png)\n",
    "\n",
    "![\"\"](2.png)"
   ]
  },
  {
   "cell_type": "markdown",
   "metadata": {},
   "source": [
    "5. What function is used in Flask for URL Building? Write a Python code to demonstrate the working of the url_for() function."
   ]
  },
  {
   "cell_type": "code",
   "execution_count": null,
   "metadata": {},
   "outputs": [],
   "source": []
  }
 ],
 "metadata": {
  "kernelspec": {
   "display_name": "Python 3 (ipykernel)",
   "language": "python",
   "name": "python3"
  },
  "language_info": {
   "codemirror_mode": {
    "name": "ipython",
    "version": 3
   },
   "file_extension": ".py",
   "mimetype": "text/x-python",
   "name": "python",
   "nbconvert_exporter": "python",
   "pygments_lexer": "ipython3",
   "version": "3.10.4"
  },
  "vscode": {
   "interpreter": {
    "hash": "e7370f93d1d0cde622a1f8e1c04877d8463912d04d973331ad4851f04de6915a"
   }
  }
 },
 "nbformat": 4,
 "nbformat_minor": 2
}
