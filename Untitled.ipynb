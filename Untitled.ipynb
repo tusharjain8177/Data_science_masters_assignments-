{
 "cells": [
  {
   "cell_type": "markdown",
   "id": "8e8ef7c7",
   "metadata": {},
   "source": [
    "# Assignment 6"
   ]
  },
  {
   "cell_type": "markdown",
   "id": "91c14aa9",
   "metadata": {},
   "source": [
    "1. Explain Class and Object with respect to Object-Oriented Programming. Give a suitable example."
   ]
  },
  {
   "cell_type": "markdown",
   "id": "f6656cb4",
   "metadata": {},
   "source": [
    "Ans\n",
    "- A class can be thought of as a blueprint or a template for creating objects. A class defines the attributes and behavior (methods) of a particular type of object.\n",
    "- An object, on the other hand, is an instance of a class. Each object created from a class has its own set of attributes (instance variables) and behavior (instance methods) that are unique to that object."
   ]
  },
  {
   "cell_type": "code",
   "execution_count": 1,
   "id": "2d3d9e42",
   "metadata": {},
   "outputs": [
    {
     "name": "stdout",
     "output_type": "stream",
     "text": [
      "John is talking\n",
      "Jane is talking\n"
     ]
    }
   ],
   "source": [
    "class Person:\n",
    "    def __init__(self, name, age):\n",
    "        self.name = name\n",
    "        self.age = age\n",
    "    def talk(self):\n",
    "        print(f\"{self.name} is talking\")\n",
    "\n",
    "person1 = Person(\"John\", 30)\n",
    "person2 = Person(\"Jane\", 25)\n",
    "\n",
    "person1.talk()  # Output: John is talking\n",
    "person2.talk()  # Output: Jane is talking"
   ]
  },
  {
   "cell_type": "markdown",
   "id": "7b4c4a61",
   "metadata": {},
   "source": [
    "2. Name the four pillars of OOPs."
   ]
  },
  {
   "cell_type": "markdown",
   "id": "76ddd3b2",
   "metadata": {},
   "source": [
    "Ans: The four pillars of OOPs are:\n",
    "1. Abstraction\n",
    "2. Encapsulation\n",
    "3. Inheritance\n",
    "4. Polymorphism"
   ]
  },
  {
   "cell_type": "markdown",
   "id": "54f55e2c",
   "metadata": {},
   "source": [
    "3. Explain why the `__init()__` function is used. Give a suitable example."
   ]
  },
  {
   "cell_type": "markdown",
   "id": "b245df36",
   "metadata": {},
   "source": [
    "Ans: The `__init__()` function is used in object-oriented programming to initialize an object's state. It is a special method in Python that is automatically called when an object of a class is created."
   ]
  },
  {
   "cell_type": "code",
   "execution_count": 2,
   "id": "dc4a136f",
   "metadata": {},
   "outputs": [
    {
     "name": "stdout",
     "output_type": "stream",
     "text": [
      "Toyota Camry 2020\n",
      "Honda Civic 2019\n"
     ]
    }
   ],
   "source": [
    "class Car:\n",
    "    def __init__(self, make, model, year):\n",
    "        self.make = make\n",
    "        self.model = model\n",
    "        self.year = year\n",
    "        \n",
    "car1 = Car(\"Toyota\", \"Camry\", 2020)\n",
    "car2 = Car(\"Honda\", \"Civic\", 2019)\n",
    "\n",
    "print(car1.make, car1.model, car1.year)  # Output: Toyota Camry 2020\n",
    "print(car2.make, car2.model, car2.year)  # Output: Honda Civic 2019"
   ]
  },
  {
   "cell_type": "markdown",
   "id": "a8e769eb",
   "metadata": {},
   "source": [
    "4. Why self is used in OOPs?"
   ]
  },
  {
   "cell_type": "markdown",
   "id": "cb3ce7de",
   "metadata": {},
   "source": [
    "Ans: The keyword `self` is used in object-oriented programming to refer to the instance of the object itself within a class method."
   ]
  },
  {
   "cell_type": "code",
   "execution_count": 4,
   "id": "238a9bdf",
   "metadata": {},
   "outputs": [
    {
     "name": "stdout",
     "output_type": "stream",
     "text": [
      "Hello, my name is John\n"
     ]
    }
   ],
   "source": [
    "class Person:\n",
    "    def __init__(self, name, age):\n",
    "        self.name = name\n",
    "        self.age = age\n",
    "        \n",
    "    def greet(self):\n",
    "        print(f\"Hello, my name is {self.name}\")\n",
    "        \n",
    "person = Person(\"John\", 30)\n",
    "person.greet()  # Output: Hello, my name is John"
   ]
  },
  {
   "cell_type": "markdown",
   "id": "126f88d9",
   "metadata": {},
   "source": [
    "5. What is inheritance? Give an example for each type of inheritance."
   ]
  },
  {
   "cell_type": "markdown",
   "id": "9dacb57e",
   "metadata": {},
   "source": [
    "Ans: Inheritance is a mechanism in object-oriented programming that allows you to create new classes that reuse, extend, or modify the attributes and behaviors of existing classes. The new class is called the subclass (or derived class), and the existing class is called the superclass (or base class).\n",
    "\n",
    "There are several types of inheritance in OOP, including:"
   ]
  },
  {
   "cell_type": "code",
   "execution_count": 5,
   "id": "b014e4c1",
   "metadata": {},
   "outputs": [
    {
     "name": "stdout",
     "output_type": "stream",
     "text": [
      "I am a Dog with 4 legs\n"
     ]
    }
   ],
   "source": [
    "# 1 Single Inheritance: A subclass inherits the attributes and behaviors of a single superclass.\n",
    "# Example.\n",
    "class Animal:\n",
    "    def __init__(self, species, legs):\n",
    "        self.species = species\n",
    "        self.legs = legs\n",
    "        \n",
    "    def describe(self):\n",
    "        print(f\"I am a {self.species} with {self.legs} legs\")\n",
    "        \n",
    "class Dog(Animal):\n",
    "    def __init__(self, breed):\n",
    "        Animal.__init__(self, \"Dog\", 4)\n",
    "        self.breed = breed\n",
    "        \n",
    "dog = Dog(\"Labrador\")\n",
    "dog.describe()  # Output: I am a Dog with 4 legs"
   ]
  },
  {
   "cell_type": "code",
   "execution_count": 6,
   "id": "833bfb21",
   "metadata": {},
   "outputs": [
    {
     "name": "stdout",
     "output_type": "stream",
     "text": [
      "I am a Mammal with 4 legs\n"
     ]
    }
   ],
   "source": [
    "# 2. Multi-Level Inheritance: A subclass inherits attributes and behaviors from a single superclass, which in turn inherits from another superclass.\n",
    "class Animal:\n",
    "    def __init__(self, species, legs):\n",
    "        self.species = species\n",
    "        self.legs = legs\n",
    "        \n",
    "    def describe(self):\n",
    "        print(f\"I am a {self.species} with {self.legs} legs\")\n",
    "        \n",
    "class Mammal(Animal):\n",
    "    def __init__(self, hair):\n",
    "        Animal.__init__(self, \"Mammal\", 4)\n",
    "        self.hair = hair\n",
    "        \n",
    "class Dog(Mammal):\n",
    "    def __init__(self, breed):\n",
    "        Mammal.__init__(self, True)\n",
    "        self.breed = breed\n",
    "        \n",
    "dog = Dog(\"Labrador\")\n",
    "dog.describe()  # Output: I am a Mammal with 4 legs"
   ]
  },
  {
   "cell_type": "code",
   "execution_count": null,
   "id": "d514a2bb",
   "metadata": {},
   "outputs": [],
   "source": [
    "# Multiple Inheritance: "
   ]
  }
 ],
 "metadata": {
  "kernelspec": {
   "display_name": "Python 3 (ipykernel)",
   "language": "python",
   "name": "python3"
  },
  "language_info": {
   "codemirror_mode": {
    "name": "ipython",
    "version": 3
   },
   "file_extension": ".py",
   "mimetype": "text/x-python",
   "name": "python",
   "nbconvert_exporter": "python",
   "pygments_lexer": "ipython3",
   "version": "3.10.4"
  }
 },
 "nbformat": 4,
 "nbformat_minor": 5
}
