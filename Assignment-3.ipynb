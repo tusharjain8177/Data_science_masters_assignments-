{
 "cells": [
  {
   "cell_type": "markdown",
   "id": "6c1c89de-e387-4c46-a819-88a50f9f30cc",
   "metadata": {},
   "source": [
    "# Assignment 3"
   ]
  },
  {
   "cell_type": "markdown",
   "id": "48aabc26-15f1-43fb-8eb4-f2cfe6e59e5e",
   "metadata": {},
   "source": [
    "### 1. What are the characteristics of the tuples? Is tuple immutable?"
   ]
  },
  {
   "cell_type": "markdown",
   "id": "70d02ac3-b2e1-495f-a59b-ffa5e8482798",
   "metadata": {},
   "source": [
    "Ans: The main characteristics of tuples are:\n",
    "\n",
    "1. They are ordered\n",
    "2. They are heterogeneous\n",
    "3. They are immutable\n",
    "\n",
    "Yes, tuple is immutable, meaning its elements cannot be altered once the tuple is created.\n",
    "\n",
    "**Example**"
   ]
  },
  {
   "cell_type": "code",
   "execution_count": 1,
   "id": "d196e238-4eea-44b3-a461-b69fb6d2c281",
   "metadata": {},
   "outputs": [
    {
     "name": "stdout",
     "output_type": "stream",
     "text": [
      "Name:  John\n"
     ]
    }
   ],
   "source": [
    "person = (\"John\", 32, \"Developer\")\n",
    "\n",
    "print(\"Name: \", person[0])"
   ]
  },
  {
   "cell_type": "markdown",
   "id": "2367a316-69fa-4c7c-ab81-44b023427d7b",
   "metadata": {},
   "source": [
    "### 2. What are the two tuple methods in python? Give an example of each method. Give a reason why tuples have only two in-built methods as compared to Lists."
   ]
  },
  {
   "cell_type": "markdown",
   "id": "9ad75e6c-6e5e-4cda-86f1-2f47e3dae1d4",
   "metadata": {},
   "source": [
    "Ans: In Python, tuple have two built-in methods:  `count() ` and ` index() `\n",
    "\n",
    "- The ` count() ` method is used to count the number of occurrences of a specific element in a tuple.\n",
    "- The ` index() ` method is used to find the index of the first occurrence of a specific element in a tuple."
   ]
  },
  {
   "cell_type": "code",
   "execution_count": 2,
   "id": "e75a6062-ac1c-44f7-8767-0aab7d79e9c1",
   "metadata": {},
   "outputs": [
    {
     "name": "stdout",
     "output_type": "stream",
     "text": [
      "Count of one:  2\n",
      "Index of three:  2\n"
     ]
    }
   ],
   "source": [
    "numbers = (1, 2, 3, 4, 5, 1, 2, 3)\n",
    "count_of_one = numbers.count(1)\n",
    "index_of_three = numbers.index(3)\n",
    "\n",
    "print(\"Count of one: \", count_of_one)\n",
    "print(\"Index of three: \", index_of_three)"
   ]
  },
  {
   "cell_type": "markdown",
   "id": "4a873f5f-f5a6-495b-9802-5f0af04816c9",
   "metadata": {},
   "source": [
    "### 3. Which collection datatypes in python do not allow duplicate items? Write a code using a set to remove duplicates from the given list."
   ]
  },
  {
   "cell_type": "markdown",
   "id": "d3885d06-3e25-46ac-926b-7ed9e7dcec50",
   "metadata": {},
   "source": [
    "Ans: In Python, sets do not allow duplicate items. A set is an unordered collection of unique elements.\n",
    "\n",
    "Here's an example of how you can use a set to remove duplicates from a list:"
   ]
  },
  {
   "cell_type": "code",
   "execution_count": 3,
   "id": "0d02bf93-0464-4153-ab82-b0a4e885bf5f",
   "metadata": {},
   "outputs": [
    {
     "name": "stdout",
     "output_type": "stream",
     "text": [
      "List Without duplicate elements:  [1, 2, 3, 4]\n"
     ]
    }
   ],
   "source": [
    "lst = [1,1,1,2,1,3,1,4,2,1,2,2,2,3,2,4,3,1,3,2,3,3,3,4,4,1,4,2,4,3,4,4]\n",
    "\n",
    "lst = list(set(lst))\n",
    "print(\"List Without duplicate elements: \",lst)"
   ]
  },
  {
   "cell_type": "markdown",
   "id": "743bddb2-6e7a-44e5-8499-a2419e96af13",
   "metadata": {},
   "source": [
    "### 4. Explain the difference between the union() and update{) methods for a set. Give an example of each method."
   ]
  },
  {
   "cell_type": "markdown",
   "id": "75181321-7646-45fc-b8c7-4858e41e1e97",
   "metadata": {},
   "source": [
    "Ans : \n",
    "| union() method | update() method |\n",
    "| --- | --- |\n",
    "| Returns a new set that contains all elements from both sets | Adds all elements from one set to another |\n",
    "| Does not modify either of the original sets | Modifies the set on which it is called |\n",
    "| Can be used with any iterable (not just sets) | Can only be used with sets |\n",
    "| Syntax: ` set1.union(set2) ` | Syntax: ` set2.update(set2) ` |"
   ]
  },
  {
   "cell_type": "code",
   "execution_count": 4,
   "id": "86a1a07d-1eb2-4e48-9597-c10bf42a73b5",
   "metadata": {},
   "outputs": [
    {
     "name": "stdout",
     "output_type": "stream",
     "text": [
      "{1, 2, 3, 4, 5}\n",
      "{1, 2, 3, 4, 5}\n"
     ]
    }
   ],
   "source": [
    "set1 = {1,2,3}\n",
    "set2 = {3,4,5}\n",
    "\n",
    "# union() method\n",
    "res = set1.union(set2)\n",
    "print(res)\n",
    "\n",
    "# update() method\n",
    "set1.update(set2)\n",
    "print(set1)"
   ]
  },
  {
   "cell_type": "raw",
   "id": "82804f90-d87c-4c80-b839-66581850a757",
   "metadata": {},
   "source": [
    "### 5. What is dictionary? Give an example. Also, state that whether a dictionary is ordered or unordered"
   ]
  },
  {
   "cell_type": "markdown",
   "id": "7ef0257a-753b-43c7-acc7-47e3381bbf62",
   "metadata": {},
   "source": [
    "Ans: A dictionary in Python is a collection of key-value pairs. The keys are used to access the values in the dictionary. Dictionaries are unordered, and each key must be unique within a single dictionary."
   ]
  },
  {
   "cell_type": "code",
   "execution_count": 5,
   "id": "eb95d64f-b67b-41b0-87ac-a7b6df82b52c",
   "metadata": {},
   "outputs": [
    {
     "name": "stdout",
     "output_type": "stream",
     "text": [
      "Name:  John\n",
      "Age:  32\n",
      "Occupation:  Developer\n"
     ]
    }
   ],
   "source": [
    "# Creating a dictionary\n",
    "person = {\n",
    "  \"name\": \"John\",\n",
    "  \"age\": 32,\n",
    "  \"occupation\": \"Developer\"\n",
    "}\n",
    "\n",
    "# Accessing values in a dictionary\n",
    "print(\"Name: \", person[\"name\"])\n",
    "print(\"Age: \", person[\"age\"])\n",
    "print(\"Occupation: \", person[\"occupation\"])"
   ]
  },
  {
   "cell_type": "markdown",
   "id": "9d3ecad1-f17f-4862-986c-4d8efa51f364",
   "metadata": {},
   "source": [
    "### 6. Can we create a nested dictionary? If so, please give an example by creating a simple one-level nested dictionary."
   ]
  },
  {
   "cell_type": "markdown",
   "id": "8d98063a-d54b-4778-a547-a04d6a34b6da",
   "metadata": {},
   "source": [
    "Ans: Yes, we can create a nested dictionary in python. A nested dictionary is a dictionary that contains another dictionary as its value. You can create a one-level nested dictionary by defining a dictionary as the value for a key in another dictionary."
   ]
  },
  {
   "cell_type": "code",
   "execution_count": 6,
   "id": "e371e47e-2618-40b3-a955-161ac0b87648",
   "metadata": {},
   "outputs": [
    {
     "name": "stdout",
     "output_type": "stream",
     "text": [
      "{'Name': 'Tushar', 'age': 21, 'skills': {'Programming': 'Python', 'visualization': ['power bi', 'tableau'], 'database': ['mysql', 'sqlite']}}\n",
      "Programming Skills:  Python\n",
      "Visualization:  ['power bi', 'tableau']\n"
     ]
    }
   ],
   "source": [
    "person = {\n",
    "    \"Name\": \"Tushar\",\n",
    "    \"age\": 21,\n",
    "    \"skills\": {\n",
    "        \"Programming\": \"Python\",\n",
    "        \"visualization\": [\"power bi\", \"tableau\"],\n",
    "        \"database\": [\"mysql\", \"sqlite\"]\n",
    "    },\n",
    "}\n",
    "\n",
    "print(person)\n",
    "print(\"Programming Skills: \",person[\"skills\"][\"Programming\"])\n",
    "print(\"Visualization: \", person[\"skills\"][\"visualization\"])"
   ]
  },
  {
   "cell_type": "markdown",
   "id": "f293d088-61d9-4a8b-9913-ead4d03b8001",
   "metadata": {},
   "source": [
    "### 7. Using setdefault() method, create key named topics in the given dictionary and also add the value of the key as this list ['Python', 'Machine Learning', 'Deep Learning']    \n",
    "dict1 = {'language' : 'Python', 'course': 'Data Science Masters'}"
   ]
  },
  {
   "cell_type": "code",
   "execution_count": 7,
   "id": "f57142ec-184e-4a13-a509-65966c32b506",
   "metadata": {},
   "outputs": [
    {
     "name": "stdout",
     "output_type": "stream",
     "text": [
      "{'language': 'Python', 'course': 'Data Science Masters', 'topic': ['Python', 'Machine Learning', 'Deep Learning']}\n"
     ]
    }
   ],
   "source": [
    "dict1 = {'language' : 'Python', 'course': 'Data Science Masters'}\n",
    "dict1.setdefault('topic', ['Python', 'Machine Learning', 'Deep Learning'])\n",
    "print(dict1)"
   ]
  },
  {
   "cell_type": "markdown",
   "id": "f8c9d382-8154-4478-a965-f006dd3e3852",
   "metadata": {},
   "source": [
    "### 8. What are the three view objects in dictionaries? Use the three in-built methods in python to display these three view objects for the given dictionary. \n",
    "dict1 = {'Sport': 'Cricket' , 'Teams': ['India', 'Australia', 'England', 'South Africa', 'Sri Lanka', 'New Zealand']}"
   ]
  },
  {
   "cell_type": "markdown",
   "id": "373e1e8d-d35f-4071-a727-8842a5271ec2",
   "metadata": {},
   "source": [
    "Ans: There are three view in dictionary in python:\n",
    "1. Key() view: returns a dynamic view of all the keys in the dictionary.\n",
    "2. values() view: returns a dynamic view of all the values in the dictionary.\n",
    "3. items() view: returns a dynamic view of all the key-value pairs in the dictionary as tuple pairs."
   ]
  },
  {
   "cell_type": "code",
   "execution_count": 8,
   "id": "01066d60-a092-4831-8573-402f01696bbc",
   "metadata": {},
   "outputs": [
    {
     "name": "stdout",
     "output_type": "stream",
     "text": [
      "Keys View Object: dict_keys(['Sport', 'Teams'])\n",
      "Values View Object: dict_values(['Cricket', ['India', 'Australia', 'England', 'South Africa', 'Sri Lanka', 'New Zealand']])\n",
      "Items View Object: dict_items([('Sport', 'Cricket'), ('Teams', ['India', 'Australia', 'England', 'South Africa', 'Sri Lanka', 'New Zealand'])])\n"
     ]
    }
   ],
   "source": [
    "dict1 = {'Sport': 'Cricket' , 'Teams': ['India', 'Australia', 'England', 'South Africa', 'Sri Lanka', 'New Zealand']}\n",
    "\n",
    "# Displaying the keys view object\n",
    "keys_view = dict1.keys()\n",
    "print(\"Keys View Object:\", keys_view)\n",
    "\n",
    "# Displaying the values view object\n",
    "values_view = dict1.values()\n",
    "print(\"Values View Object:\", values_view)\n",
    "\n",
    "# Displaying the items view object\n",
    "items_view = dict1.items()\n",
    "print(\"Items View Object:\", items_view)"
   ]
  },
  {
   "cell_type": "code",
   "execution_count": null,
   "id": "1d0e846c-866c-43c3-8146-431bdb605f21",
   "metadata": {},
   "outputs": [],
   "source": []
  }
 ],
 "metadata": {
  "kernelspec": {
   "display_name": "Python 3 (ipykernel)",
   "language": "python",
   "name": "python3"
  },
  "language_info": {
   "codemirror_mode": {
    "name": "ipython",
    "version": 3
   },
   "file_extension": ".py",
   "mimetype": "text/x-python",
   "name": "python",
   "nbconvert_exporter": "python",
   "pygments_lexer": "ipython3",
   "version": "3.10.8"
  }
 },
 "nbformat": 4,
 "nbformat_minor": 5
}
