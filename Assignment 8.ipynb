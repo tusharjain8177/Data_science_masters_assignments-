{
 "cells": [
  {
   "cell_type": "markdown",
   "id": "f45f864e",
   "metadata": {},
   "source": [
    "# Assignment 8"
   ]
  },
  {
   "cell_type": "markdown",
   "id": "da1dd636",
   "metadata": {},
   "source": [
    "1. You are writing code for a company. The requirement of the company is that you create a python function that will check whether the password entered by the user is correct or not. The function should take the password as input and return the string “Valid Password” if the entered password follows the below-given password guidelines else it should return “Invalid Password”.\n",
    "\n",
    "Note: \n",
    "1. The Password should contain at least two uppercase letters and at least two lowercase letters.\n",
    "2. The Password should contain at least a number and three special characters.\n",
    "3. The length of the password should be 10 characters long."
   ]
  },
  {
   "cell_type": "code",
   "execution_count": 1,
   "id": "71c7a181",
   "metadata": {},
   "outputs": [
    {
     "name": "stdout",
     "output_type": "stream",
     "text": [
      "Enter your password here: Data@1#$Sj\n",
      "Valid Password\n"
     ]
    }
   ],
   "source": [
    "def password_checker(password):\n",
    "    if len(password) != 10:\n",
    "        return \"Invalid Password\"\n",
    "    \n",
    "    uppercase_count = 0\n",
    "    lowercase_count = 0\n",
    "    number_count = 0\n",
    "    special_count = 0\n",
    "    \n",
    "    for char in password:\n",
    "        if char.isupper():\n",
    "            uppercase_count +=1\n",
    "        elif char.islower():\n",
    "            lowercase_count +=1\n",
    "        elif char.isdigit():\n",
    "            number_count +=1\n",
    "        else:\n",
    "            special_count +=1\n",
    "    \n",
    "    if uppercase_count >=2 and lowercase_count >=2 and number_count >=1 and special_count >=3:\n",
    "        return \"Valid Password\"\n",
    "    else:\n",
    "        return \"Invalid Password\"\n",
    "\n",
    "user_entered_password = input(\"Enter your password here: \")\n",
    "\n",
    "print(password_checker(user_entered_password))"
   ]
  },
  {
   "cell_type": "markdown",
   "id": "968a6fd4",
   "metadata": {},
   "source": [
    "2. Solve the below-given questions using at least one of the following:\n",
    "    1. Lambda functioJ\n",
    "    2. Filter functioJ\n",
    "    3. Zap functioJ\n",
    "    4. List ComprehensioI\n",
    "- Check if the string starts with a particular letter.\n",
    "- Check if the string is numeric.\n",
    "- Sort a list of tuples having fruit names and their quantity. [(\"mango\",99),(\"orange\",80), (\"grapes\", 1000)]\n",
    "- Find the squares of numbers from 1 to 10.\n",
    "- Find the cube root of numbers from 1 to 10.\n",
    "- Check if a given number is even.\n",
    "- Filter odd numbers from the given list.\n",
    "[1,2,3,4,5,6,7,8,9,10]\n",
    "- Sort a list of integers into positive and negative integers lists.\n",
    "[1,2,3,4,5,6,-1,-2,-3,-4,-5,0]"
   ]
  },
  {
   "cell_type": "code",
   "execution_count": 2,
   "id": "0345fa9d",
   "metadata": {},
   "outputs": [
    {
     "name": "stdout",
     "output_type": "stream",
     "text": [
      "Enter a letter to check whether string staringed with this or not: H\n",
      "Enter the string to check it: Hello world\n",
      "True\n"
     ]
    }
   ],
   "source": [
    "# Starting with a particular letter.\n",
    "\n",
    "enter_starting_letter_tocheck = input(\"Enter a letter to check whether string staringed with this or not: \")\n",
    "enter_string = input(\"Enter the string to check it: \")\n",
    "\n",
    "starting_with_letter = lambda x,y: x.startswith(y)\n",
    "\n",
    "print(starting_with_letter(enter_string, enter_starting_letter_tocheck))"
   ]
  },
  {
   "cell_type": "code",
   "execution_count": 3,
   "id": "fbe480a0",
   "metadata": {},
   "outputs": [
    {
     "name": "stdout",
     "output_type": "stream",
     "text": [
      "Enter String to check numeric or not: 11230\n",
      "True\n"
     ]
    }
   ],
   "source": [
    "# check to string in numeric\n",
    "\n",
    "string_tocheck_numeric = input(\"Enter String to check numeric or not: \")\n",
    "\n",
    "check_numberic = lambda x: x.isdigit()\n",
    "\n",
    "print(check_numberic(string_tocheck_numeric))"
   ]
  },
  {
   "cell_type": "code",
   "execution_count": 4,
   "id": "2efb2664",
   "metadata": {},
   "outputs": [
    {
     "name": "stdout",
     "output_type": "stream",
     "text": [
      "[('orange', 80), ('mango', 99), ('grapes', 1000)]\n"
     ]
    }
   ],
   "source": [
    "# Sort a list of tuples having fruit names and their quantity. [(\"mango\",99),(\"orange\",80), (\"grapes\", 1000)]\n",
    "\n",
    "fruits = [(\"mango\", 99), (\"orange\", 80), (\"grapes\", 1000)]\n",
    "\n",
    "sorted_fruits = sorted(fruits, key = lambda x: x[1])\n",
    "\n",
    "print(sorted_fruits)"
   ]
  },
  {
   "cell_type": "code",
   "execution_count": 5,
   "id": "f0b027d9",
   "metadata": {},
   "outputs": [
    {
     "name": "stdout",
     "output_type": "stream",
     "text": [
      "[1, 4, 9, 16, 25, 36, 49, 64, 81, 100]\n"
     ]
    }
   ],
   "source": [
    "# Find the squares of numbers from 1 to 10.\n",
    "\n",
    "find_square = list(map(lambda x: x**2, range(1, 11)))\n",
    "\n",
    "print(find_square)"
   ]
  },
  {
   "cell_type": "code",
   "execution_count": 6,
   "id": "ed4be7aa",
   "metadata": {},
   "outputs": [
    {
     "name": "stdout",
     "output_type": "stream",
     "text": [
      "[1.0, 1.26, 1.44, 1.59, 1.71, 1.82, 1.91, 2.0, 2.08, 2.15]\n"
     ]
    }
   ],
   "source": [
    "# Find the cube root of numbers from 1 to 10:\n",
    "import math\n",
    "\n",
    "find_cuberoot = list(map(lambda x: round(math.pow(x, 1/3), 2), range(1, 11)))\n",
    "\n",
    "print(find_cuberoot)"
   ]
  },
  {
   "cell_type": "code",
   "execution_count": 7,
   "id": "dc4ba05e",
   "metadata": {},
   "outputs": [
    {
     "name": "stdout",
     "output_type": "stream",
     "text": [
      "Enter number to check wheter it is even: 12\n",
      "True\n"
     ]
    }
   ],
   "source": [
    "# Check if a given number is even\n",
    "check_even = lambda x: x%2 ==0\n",
    "\n",
    "enter_number = int(input(\"Enter number to check wheter it is even: \"))\n",
    "print(check_even(enter_number))"
   ]
  },
  {
   "cell_type": "code",
   "execution_count": 8,
   "id": "dfb01efa",
   "metadata": {},
   "outputs": [
    {
     "name": "stdout",
     "output_type": "stream",
     "text": [
      "[1, 3, 5, 7, 9]\n"
     ]
    }
   ],
   "source": [
    "# Filter odd numbers from the given list\n",
    "\n",
    "numbers = [1, 2, 3, 4, 5, 6, 7, 8, 9, 10]\n",
    "\n",
    "odd_number = list(filter(lambda x: x%2 !=0, numbers))\n",
    "\n",
    "print(odd_number)"
   ]
  },
  {
   "cell_type": "code",
   "execution_count": 9,
   "id": "b0b24483",
   "metadata": {},
   "outputs": [
    {
     "name": "stdout",
     "output_type": "stream",
     "text": [
      "Positive Numbers:  [1, 2, 3, 4, 5, 6]\n",
      "Negative Numbers:  [-1, -2, -3, -4, -5]\n"
     ]
    }
   ],
   "source": [
    "# Sort a list of integers into positive and negative integers lists\n",
    "numbers = [1, 2, 3, 4, 5, 6, -1, -2, -3, -4, -5, 0]\n",
    "\n",
    "positive_numbers = list(filter(lambda x: x > 0, numbers))\n",
    "negative_numbers = list(filter(lambda x: x < 0, numbers))\n",
    "\n",
    "print(\"Positive Numbers: \", positive_numbers)\n",
    "print(\"Negative Numbers: \", negative_numbers)"
   ]
  },
  {
   "cell_type": "code",
   "execution_count": null,
   "id": "99cda059",
   "metadata": {},
   "outputs": [],
   "source": []
  }
 ],
 "metadata": {
  "kernelspec": {
   "display_name": "Python 3 (ipykernel)",
   "language": "python",
   "name": "python3"
  },
  "language_info": {
   "codemirror_mode": {
    "name": "ipython",
    "version": 3
   },
   "file_extension": ".py",
   "mimetype": "text/x-python",
   "name": "python",
   "nbconvert_exporter": "python",
   "pygments_lexer": "ipython3",
   "version": "3.10.4"
  }
 },
 "nbformat": 4,
 "nbformat_minor": 5
}
