{
 "cells": [
  {
   "cell_type": "markdown",
   "id": "02c30b11",
   "metadata": {},
   "source": [
    "# Assignment 19"
   ]
  },
  {
   "cell_type": "markdown",
   "id": "88275577",
   "metadata": {},
   "source": [
    "1. Explain GET and POST methods."
   ]
  },
  {
   "cell_type": "markdown",
   "id": "24691801",
   "metadata": {},
   "source": [
    "Ans: The GET method is used to retrieve data from a specified resource, such as a web page or a web API. When a GET request is sent to a server, the server responds by sending back the requested data in the response body. The data can be encoded in the URL of the request, which is visible in the address bar of the user's web browser. GET requests are typically used for simple and idempotent operations, such as retrieving information or displaying a web page.\n",
    "\n",
    "The POST method, on the other hand, is used to submit data to a server to create or update a resource. When a POST request is sent to a server, the data is included in the request body, which is not visible in the address bar of the user's web browser. POST requests are often used for non-idempotent operations, such as creating a new user account or submitting a form."
   ]
  },
  {
   "cell_type": "markdown",
   "id": "f22e735a",
   "metadata": {},
   "source": [
    "2. Why is request used in Flask?"
   ]
  },
  {
   "cell_type": "markdown",
   "id": "f4823d5e",
   "metadata": {},
   "source": [
    "Ans: In Flask, the request object is used to access data that is sent to the server from a client in an HTTP request. The request object provides information about the HTTP request, including the data submitted by the client in the request body, the URL parameters, the HTTP headers, and the HTTP method used in the request.\n",
    "\n",
    "The request object is particularly useful for handling form submissions and processing data submitted by a user through a web form. For example, if a user submits a form with a POST request, the form data will be included in the request body, and the Flask application can access this data using the request object."
   ]
  },
  {
   "cell_type": "markdown",
   "id": "367825e8",
   "metadata": {},
   "source": [
    "3. Why is redirect() used in Flask?"
   ]
  },
  {
   "cell_type": "markdown",
   "id": "23924ead",
   "metadata": {},
   "source": [
    "Ans: In Flask, the redirect() function is used to redirect a client to a different URL. This function is commonly used in web applications to direct users to a different page or route after they have completed a particular action or submitted a form.\n"
   ]
  },
  {
   "cell_type": "markdown",
   "id": "e9e1cecc",
   "metadata": {},
   "source": [
    "4. What are templates in Flask? Why is the render_template() function used?"
   ]
  },
  {
   "cell_type": "markdown",
   "id": "d4c15d1b",
   "metadata": {},
   "source": [
    "Ans: In Flask, templates are used to separate the presentation logic from the application logic. A template is a file that contains HTML code with placeholders for dynamic content, which is filled in at runtime by the Flask application.\n",
    "\n",
    "Templates are typically used in Flask to generate dynamic HTML pages that are customized based on data retrieved from a database or other source. By using templates, Flask applications can generate complex HTML pages with dynamic content in a way that is maintainable and scalable.\n",
    "\n",
    "The render_template() function is used in Flask to render a template and return the resulting HTML content as a response to an HTTP request. The render_template() function takes two arguments: the name of the template file and any additional data that should be passed to the template."
   ]
  },
  {
   "cell_type": "markdown",
   "id": "03cfd957",
   "metadata": {},
   "source": [
    "5. Create a simple API. Use Postman to test it. Attach the screenshot of the output in the Jupyter Notebook."
   ]
  },
  {
   "cell_type": "code",
   "execution_count": 1,
   "id": "6d7a3f81",
   "metadata": {},
   "outputs": [
    {
     "name": "stdout",
     "output_type": "stream",
     "text": [
      " * Serving Flask app '__main__' (lazy loading)\n",
      " * Environment: production\n",
      "\u001b[31m   WARNING: This is a development server. Do not use it in a production deployment.\u001b[0m\n",
      "\u001b[2m   Use a production WSGI server instead.\u001b[0m\n",
      " * Debug mode: off\n"
     ]
    },
    {
     "name": "stderr",
     "output_type": "stream",
     "text": [
      " * Running on all addresses (0.0.0.0)\n",
      "   WARNING: This is a development server. Do not use it in a production deployment.\n",
      " * Running on http://127.0.0.1:5000\n",
      " * Running on http://192.168.43.88:5000 (Press CTRL+C to quit)\n"
     ]
    }
   ],
   "source": [
    "from flask import Flask, request, render_template, jsonify\n",
    "\n",
    "app = Flask(__name__)\n",
    "\n",
    "@app.route('/')\n",
    "def index():\n",
    "    return \"Hello\"\n",
    "\n",
    "@app.route('/postman_action',methods=['POST'])\n",
    "def math_ops1():\n",
    "    if(request.method == 'POST'):\n",
    "        name = request.json['username']\n",
    "        branch = request.json['branch']\n",
    "        result = f\"Hi!, {name}. I am your new friend.\\n I am to in {branch}\"\n",
    "        return jsonify(result)\n",
    "\n",
    "if __name__ == \"__main__\":\n",
    "    app.run(host = '0.0.0.0')\n",
    "\n"
   ]
  },
  {
   "cell_type": "markdown",
   "id": "fabb1710",
   "metadata": {},
   "source": [
    "![\"OUTPUT\"]("
   ]
  }
 ],
 "metadata": {
  "kernelspec": {
   "display_name": "Python 3 (ipykernel)",
   "language": "python",
   "name": "python3"
  },
  "language_info": {
   "codemirror_mode": {
    "name": "ipython",
    "version": 3
   },
   "file_extension": ".py",
   "mimetype": "text/x-python",
   "name": "python",
   "nbconvert_exporter": "python",
   "pygments_lexer": "ipython3",
   "version": "3.10.4"
  }
 },
 "nbformat": 4,
 "nbformat_minor": 5
}
