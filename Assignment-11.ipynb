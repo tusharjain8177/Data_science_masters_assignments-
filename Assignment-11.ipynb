{
 "cells": [
  {
   "cell_type": "markdown",
   "id": "55ab66e9",
   "metadata": {},
   "source": [
    "# Assignment 11"
   ]
  },
  {
   "cell_type": "markdown",
   "id": "8f02cc25",
   "metadata": {},
   "source": [
    "1. What is an Exception in python? Write the difference between Exceptions and Syntax errors."
   ]
  },
  {
   "cell_type": "markdown",
   "id": "8ddc7882",
   "metadata": {},
   "source": [
    "Ans: An exception in Python is an event, which occurs during the execution of a program that disrupts the normal flow of the program's instructions. Exceptions are used to handle errors and exceptional conditions in a program.\n",
    "\n",
    "Syntactically incorrect statements, such as a misspelled keyword or a missing bracket, are called syntax errors. These errors occur when the code is written incorrectly and can be detected by the Python interpreter before the code is executed.\n",
    "\n",
    "On the other hand, exceptions are runtime errors that occur when the code is executed and can be caused by a variety of reasons, such as division by zero, accessing an index outside the bounds of a list, or trying to open a file that does not exist.\n",
    "\n",
    "In summary, the difference between exceptions and syntax errors is that syntax errors are detected before the code is executed and exceptions are raised during the execution of the code."
   ]
  },
  {
   "cell_type": "markdown",
   "id": "13ebe4f4",
   "metadata": {},
   "source": [
    "2. What happens when an exception is not handled? Explain with an example."
   ]
  },
  {
   "cell_type": "markdown",
   "id": "c4b19f2d",
   "metadata": {},
   "source": [
    "Ans: If an exception is raised in a Python program and it is not handled using a try-except block, the program will stop executing and an error message will be displayed. This error message, also known as a traceback, provides information about the type of exception that was raised, the location where it was raised, and the call stack that led to the exception."
   ]
  },
  {
   "cell_type": "code",
   "execution_count": 1,
   "id": "c2490fa5",
   "metadata": {},
   "outputs": [
    {
     "name": "stdout",
     "output_type": "stream",
     "text": [
      "5.0\n"
     ]
    },
    {
     "ename": "ZeroDivisionError",
     "evalue": "division by zero",
     "output_type": "error",
     "traceback": [
      "\u001b[1;31m---------------------------------------------------------------------------\u001b[0m",
      "\u001b[1;31mZeroDivisionError\u001b[0m                         Traceback (most recent call last)",
      "Input \u001b[1;32mIn [1]\u001b[0m, in \u001b[0;36m<cell line: 5>\u001b[1;34m()\u001b[0m\n\u001b[0;32m      2\u001b[0m     \u001b[38;5;28;01mreturn\u001b[39;00m a \u001b[38;5;241m/\u001b[39m b\n\u001b[0;32m      4\u001b[0m \u001b[38;5;28mprint\u001b[39m(divide(\u001b[38;5;241m10\u001b[39m, \u001b[38;5;241m2\u001b[39m))\n\u001b[1;32m----> 5\u001b[0m \u001b[38;5;28mprint\u001b[39m(\u001b[43mdivide\u001b[49m\u001b[43m(\u001b[49m\u001b[38;5;241;43m10\u001b[39;49m\u001b[43m,\u001b[49m\u001b[43m \u001b[49m\u001b[38;5;241;43m0\u001b[39;49m\u001b[43m)\u001b[49m)\n\u001b[0;32m      6\u001b[0m \u001b[38;5;28mprint\u001b[39m(divide(\u001b[38;5;241m10\u001b[39m, \u001b[38;5;241m5\u001b[39m))\n",
      "Input \u001b[1;32mIn [1]\u001b[0m, in \u001b[0;36mdivide\u001b[1;34m(a, b)\u001b[0m\n\u001b[0;32m      1\u001b[0m \u001b[38;5;28;01mdef\u001b[39;00m \u001b[38;5;21mdivide\u001b[39m(a, b):\n\u001b[1;32m----> 2\u001b[0m     \u001b[38;5;28;01mreturn\u001b[39;00m \u001b[43ma\u001b[49m\u001b[43m \u001b[49m\u001b[38;5;241;43m/\u001b[39;49m\u001b[43m \u001b[49m\u001b[43mb\u001b[49m\n",
      "\u001b[1;31mZeroDivisionError\u001b[0m: division by zero"
     ]
    }
   ],
   "source": [
    "def divide(a, b):\n",
    "    return a / b\n",
    "\n",
    "print(divide(10, 2))\n",
    "print(divide(10, 0))\n",
    "print(divide(10, 5))"
   ]
  },
  {
   "cell_type": "markdown",
   "id": "d910fb97",
   "metadata": {},
   "source": [
    "3. Which Python statements are used to catch and handle exceptions? Explain with an example."
   ]
  },
  {
   "cell_type": "markdown",
   "id": "9b40d6f6",
   "metadata": {},
   "source": [
    "Ans: In Python, exceptions can be caught and handled using the try and except statements. The try statement is used to specify a block of code that might raise an exception, while the except statement is used to catch and handle the exception if it occurs."
   ]
  },
  {
   "cell_type": "code",
   "execution_count": 2,
   "id": "4c5cba86",
   "metadata": {},
   "outputs": [
    {
     "name": "stdout",
     "output_type": "stream",
     "text": [
      "Error: Cannot divide by zero.\n"
     ]
    }
   ],
   "source": [
    "try:\n",
    "    x = 10\n",
    "    y = 0\n",
    "    result = x / y\n",
    "except ZeroDivisionError:\n",
    "    print(\"Error: Cannot divide by zero.\")"
   ]
  },
  {
   "cell_type": "markdown",
   "id": "96fd96a3",
   "metadata": {},
   "source": [
    "4. Explain with an example:\n",
    "\n",
    "    a. try and else\n",
    "    \n",
    "    b. finally\n",
    "    \n",
    "    c. raise"
   ]
  },
  {
   "cell_type": "code",
   "execution_count": 3,
   "id": "e6dbb841",
   "metadata": {},
   "outputs": [
    {
     "name": "stdout",
     "output_type": "stream",
     "text": [
      "Enter a number: 10\n",
      "The number entered is 10\n",
      "No exceptions were raised.\n"
     ]
    }
   ],
   "source": [
    "#a. try and else:\n",
    "\n",
    "# The else clause in the try-except statement can be used to specify a block of code that will be executed if no exceptions are raised in the try block.\n",
    "\n",
    "try:\n",
    "    x = int(input(\"Enter a number: \"))\n",
    "    print(\"The number entered is\", x)\n",
    "except ValueError:\n",
    "    print(\"Error: Invalid input. Please enter a valid number.\")\n",
    "else:\n",
    "    print(\"No exceptions were raised.\")"
   ]
  },
  {
   "cell_type": "code",
   "execution_count": 4,
   "id": "d64a6b9e",
   "metadata": {},
   "outputs": [
    {
     "name": "stdout",
     "output_type": "stream",
     "text": [
      "Enter a number: 0\n",
      "Error: Cannot divide by zero.\n",
      "This code will always be executed.\n"
     ]
    }
   ],
   "source": [
    "# b. finally:\n",
    "\n",
    "# The finally clause in the try-except statement can be used to specify a block of code that will be executed regardless of whether an exception was raised or not. The finally block is typically used to release resources or perform clean-up operations.\n",
    "try:\n",
    "    x = int(input(\"Enter a number: \"))\n",
    "    y = 1 / x\n",
    "except ZeroDivisionError:\n",
    "    print(\"Error: Cannot divide by zero.\")\n",
    "except ValueError:\n",
    "    print(\"Error: Invalid input. Please enter a valid number.\")\n",
    "finally:\n",
    "    print(\"This code will always be executed.\")"
   ]
  },
  {
   "cell_type": "code",
   "execution_count": 5,
   "id": "df94dc6d",
   "metadata": {},
   "outputs": [
    {
     "name": "stdout",
     "output_type": "stream",
     "text": [
      "Enter a positive number: 12\n",
      "The number entered is 12\n"
     ]
    }
   ],
   "source": [
    "# c. raise:\n",
    "\n",
    "# The raise statement can be used to raise an exception in a Python program. This can be useful when you want to indicate that an error has occurred, or to stop the execution of the program and return a custom error message.\n",
    "def positive_number(x):\n",
    "    if x <= 0:\n",
    "        raise ValueError(\"Error: Invalid input. Please enter a positive number.\")\n",
    "    return x\n",
    "\n",
    "try:\n",
    "    x = int(input(\"Enter a positive number: \"))\n",
    "    result = positive_number(x)\n",
    "    print(\"The number entered is\", result)\n",
    "except ValueError as error:\n",
    "    print(error)\n"
   ]
  },
  {
   "cell_type": "markdown",
   "id": "1a52b024",
   "metadata": {},
   "source": [
    "5. What are Custom Exceptions in python? Why do we need Custom Exceptions? Explain with an example."
   ]
  },
  {
   "cell_type": "markdown",
   "id": "a9452a4c",
   "metadata": {},
   "source": [
    "Custom exceptions are user-defined exceptions in Python. They are created by subclassing the built-in Exception class or any of its subclasses. Custom exceptions allow developers to raise specific, user-defined exceptions in their code, which can be caught and handled in a predictable manner.\n",
    "\n",
    "We need custom exceptions for several reasons:\n",
    "\n",
    "<ol><li><p>To add more meaning to the exceptions: By raising a custom exception, we can give it a name and a message that is specific to our application, making it easier to understand what went wrong and how to fix it.</p></li><li><p>To handle specific errors: When an application encounters an error, it may raise a built-in exception that is not specific enough to our use case. By raising a custom exception, we can provide more context and information about the error, making it easier to handle and debug.</p></li><li><p>To create a hierarchy of exceptions: Custom exceptions can be subclassed to create a hierarchy of exceptions that make it easier to understand the relationship between different types of errors.</p></li></ol>"
   ]
  },
  {
   "cell_type": "code",
   "execution_count": 6,
   "id": "6282ddbd",
   "metadata": {},
   "outputs": [
    {
     "name": "stdout",
     "output_type": "stream",
     "text": [
      "Cannot divide by zero\n"
     ]
    }
   ],
   "source": [
    "class MyCustomException(Exception):\n",
    "    \"\"\"A custom exception class.\"\"\"\n",
    "    pass\n",
    "\n",
    "def divide(a, b):\n",
    "    if b == 0:\n",
    "        raise MyCustomException(\"Cannot divide by zero\")\n",
    "    return a / b\n",
    "\n",
    "try:\n",
    "    result = divide(10, 0)\n",
    "except MyCustomException as e:\n",
    "    print(e)"
   ]
  },
  {
   "cell_type": "markdown",
   "id": "0730fda9",
   "metadata": {},
   "source": [
    "6. Create a custom exception class. Use this class to handle an exception."
   ]
  },
  {
   "cell_type": "code",
   "execution_count": 7,
   "id": "ce05f917",
   "metadata": {},
   "outputs": [
    {
     "name": "stdout",
     "output_type": "stream",
     "text": [
      "Cannot divide by zero\n"
     ]
    }
   ],
   "source": [
    "class MyCustomException(Exception):\n",
    "    \"\"\"A custom exception class.\"\"\"\n",
    "    pass\n",
    "\n",
    "def divide(a, b):\n",
    "    if b == 0:\n",
    "        raise MyCustomException(\"Cannot divide by zero\")\n",
    "    return a / b\n",
    "\n",
    "try:\n",
    "    result = divide(10, 0)\n",
    "except MyCustomException as e:\n",
    "    print(e)"
   ]
  }
 ],
 "metadata": {
  "kernelspec": {
   "display_name": "Python 3 (ipykernel)",
   "language": "python",
   "name": "python3"
  },
  "language_info": {
   "codemirror_mode": {
    "name": "ipython",
    "version": 3
   },
   "file_extension": ".py",
   "mimetype": "text/x-python",
   "name": "python",
   "nbconvert_exporter": "python",
   "pygments_lexer": "ipython3",
   "version": "3.10.4"
  }
 },
 "nbformat": 4,
 "nbformat_minor": 5
}
