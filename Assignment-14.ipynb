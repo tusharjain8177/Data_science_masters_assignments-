{
 "cells": [
  {
   "cell_type": "markdown",
   "id": "44a6a268",
   "metadata": {},
   "source": [
    "# Assignment 14"
   ]
  },
  {
   "cell_type": "markdown",
   "id": "c0055b01",
   "metadata": {},
   "source": [
    "1. What is multiprocessing in python? Why is it useful?"
   ]
  },
  {
   "cell_type": "markdown",
   "id": "f1237201",
   "metadata": {},
   "source": [
    "Ans: Multiprocessing in Python is a technique for executing multiple processes or threads simultaneously, allowing multiple tasks to be run concurrently. It is a way of utilizing multiple CPU cores to improve the performance of your Python code.\n",
    "\n",
    "Multiprocessing is useful in many scenarios where a single thread may not be enough to accomplish a task efficiently. For example, if you are processing a large amount of data or running intensive calculations, multiprocessing can be used to divide the workload among multiple cores, reducing the time it takes to complete the task. It can also be used to run multiple independent tasks concurrently, such as downloading files, generating reports, or performing data analysis.\n",
    "\n",
    "Python's multiprocessing module provides an easy-to-use interface for spawning new processes, communicating between them, and managing their execution. It allows you to create and manage a pool of worker processes, each of which can execute a specific task independently. The results of each process can be combined to produce a final result.\n",
    "\n",
    "Some of the benefits of multiprocessing in Python are:\n",
    "\n",
    "1. Faster execution: Multiprocessing can significantly reduce the time it takes to execute a task by distributing it across multiple CPU cores.\n",
    "\n",
    "2. Improved scalability: Multiprocessing allows you to scale your application by using all available CPU cores, making it possible to process larger amounts of data or handle more concurrent requests.\n",
    "\n",
    "3. Simplified development: The multiprocessing module provides an easy-to-use interface for managing multiple processes, making it easier to develop concurrent applications in Python."
   ]
  },
  {
   "cell_type": "markdown",
   "id": "b1e1f618",
   "metadata": {},
   "source": [
    "2. What are the differences between multiprocessing and multithreading?"
   ]
  },
  {
   "cell_type": "markdown",
   "id": "5b334f9a",
   "metadata": {},
   "source": [
    "Ans:\n",
    "\n",
    "| Multiprocessing | Multithreading |\n",
    "| --------------- | --------------- |\n",
    "| Involves executing multiple processes simultaneously. | Involves executing multiple threads within a single process. |\n",
    "| Requires more overhead and resources to start and manage processes. | Requires less overhead and resources to start and manage threads. |\n",
    "| Each process has its own memory space, making it easier to share data between them. | All threads within a process share the same memory space, making it more difficult to share data between them. |\n",
    "| Provides true parallelism, allowing multiple CPU cores to be utilized simultaneously. | Provides concurrency, but not true parallelism since threads share the same CPU core. |\n",
    "| Can handle more complex and CPU-intensive tasks, making it ideal for scientific computing and data processing. | Better suited for I/O-bound tasks, such as web scraping, network requests, and user interface updates. |\n",
    "| Slower context switching between processes, which can slow down performance. | Faster context switching between threads, which can improve performance. |\n"
   ]
  },
  {
   "cell_type": "markdown",
   "id": "42b718e3",
   "metadata": {},
   "source": [
    "3. Write a python code to create a process using the multiprocessing module."
   ]
  },
  {
   "cell_type": "code",
   "execution_count": 1,
   "id": "d616821d",
   "metadata": {},
   "outputs": [
    {
     "name": "stdout",
     "output_type": "stream",
     "text": [
      "Starting my_func in process: MainProcess\n"
     ]
    }
   ],
   "source": [
    "import multiprocessing\n",
    "\n",
    "def my_func():\n",
    "    print(\"Starting my_func in process:\", multiprocessing.current_process().name)\n",
    "\n",
    "if __name__ == '__main__':\n",
    "    process = multiprocessing.Process(target=my_func)\n",
    "    process.start()\n",
    "    process.join()\n",
    "    my_func()"
   ]
  },
  {
   "cell_type": "markdown",
   "id": "cf4bd28a",
   "metadata": {},
   "source": [
    "4. What is a multiprocessing pool in python? Why is it used?"
   ]
  },
  {
   "cell_type": "markdown",
   "id": "ad6eab43",
   "metadata": {},
   "source": [
    "Ans: In Python's multiprocessing module, a pool is a group of worker processes that can execute tasks in parallel. The multiprocessing.Pool class provides a simple way to create a pool of worker processes and distribute tasks across them.\n",
    "\n",
    "Here's a brief overview of how the multiprocessing.Pool works:\n",
    "\n",
    "- First, a pool of worker processes is created using the Pool constructor, specifying the number of worker processes to use (which defaults to the number of CPU cores available on the system).\n",
    "- Next, tasks are added to the pool using the apply(), map(), or starmap() methods, which allow you to specify the function to execute in parallel and the arguments to pass to it.\n",
    "- The worker processes in the pool execute the specified function with the given arguments in parallel, using the available CPU cores.\n",
    "- Finally, the results are collected and returned by the pool, either as a list of return values or as an iterable of results.\n",
    "\n",
    "The multiprocessing.Pool is useful for performing computationally intensive tasks that can be broken down into smaller sub-tasks that can be executed in parallel. By using a pool of worker processes, the overall computation can be sped up by distributing the workload across multiple CPU cores.\n",
    "\n",
    "Here's an example code snippet that demonstrates the basic usage of the multiprocessing.Pool class:"
   ]
  },
  {
   "cell_type": "markdown",
   "id": "b548e045",
   "metadata": {},
   "source": [
    "5. How can we create a pool of worker processes in python using the multiprocessing module?"
   ]
  },
  {
   "cell_type": "markdown",
   "id": "5128e777",
   "metadata": {},
   "source": [
    "Ans: In Python's multiprocessing module, we can create a pool of worker processes using the Pool class. Here's an example code snippet that demonstrates how to create a pool of worker processes in Python:\n",
    "\n",
    "<details>\n",
    "    <summary><code>Python</code> Example</summary>\n",
    "    <div style=\"background-color: black; color: white; padding: 10px\">\n",
    "        <pre>\n",
    "<code>\n",
    "import multiprocessing\n",
    "\n",
    "def my_func(x):\n",
    "    return x * x\n",
    "\n",
    "if __name__ == '__main__':\n",
    "    with multiprocessing.Pool(processes=4) as pool:\n",
    "        results = pool.map(my_func, [1, 2, 3, 4, 5])\n",
    "    print(results)\n",
    "</code>\n",
    "        </pre>\n",
    "    </div>\n",
    "</details>\n"
   ]
  },
  {
   "cell_type": "markdown",
   "id": "44250768",
   "metadata": {},
   "source": [
    "6. Write a python program to create 4 processes, each process should print a different number using the multiprocessing module in python."
   ]
  },
  {
   "cell_type": "code",
   "execution_count": null,
   "id": "a9281d3d",
   "metadata": {},
   "outputs": [],
   "source": [
    "import multiprocessing\n",
    "\n",
    "def print_number(num):\n",
    "    print(f\"Process {num}: {num}\")\n",
    "\n",
    "if __name__ == '__main__':\n",
    "    processes = []\n",
    "    for i in range(4):\n",
    "        p = multiprocessing.Process(target=print_number, args=(i,))\n",
    "        processes.append(p)\n",
    "        p.start()\n",
    "\n",
    "    for p in processes:\n",
    "        p.join()\n"
   ]
  },
  {
   "cell_type": "code",
   "execution_count": null,
   "id": "8d3fc90f",
   "metadata": {},
   "outputs": [],
   "source": []
  }
 ],
 "metadata": {
  "kernelspec": {
   "display_name": "Python 3 (ipykernel)",
   "language": "python",
   "name": "python3"
  },
  "language_info": {
   "codemirror_mode": {
    "name": "ipython",
    "version": 3
   },
   "file_extension": ".py",
   "mimetype": "text/x-python",
   "name": "python",
   "nbconvert_exporter": "python",
   "pygments_lexer": "ipython3",
   "version": "3.10.4"
  }
 },
 "nbformat": 4,
 "nbformat_minor": 5
}
