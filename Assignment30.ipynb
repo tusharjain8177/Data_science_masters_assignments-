{
 "cells": [
  {
   "cell_type": "markdown",
   "id": "30b4b3ea",
   "metadata": {},
   "source": [
    "# Assignment 30"
   ]
  },
  {
   "cell_type": "markdown",
   "id": "e5c74be7",
   "metadata": {},
   "source": [
    "1. What is Statistics?"
   ]
  },
  {
   "cell_type": "markdown",
   "id": "1f566517",
   "metadata": {},
   "source": [
    "Statistics is the science of collecting, organizing, analyzing the data."
   ]
  },
  {
   "cell_type": "markdown",
   "id": "23665574",
   "metadata": {},
   "source": [
    "---"
   ]
  },
  {
   "cell_type": "markdown",
   "id": "d9c1cbfa",
   "metadata": {},
   "source": [
    "2. Define the different types of statistics and give an example of when each type might be used."
   ]
  },
  {
   "cell_type": "markdown",
   "id": "3fdb6cd5",
   "metadata": {},
   "source": [
    "There are two main types of statistics: descriptive statistics and inferential statistics.\n",
    "\n",
    "Descriptive statistics: These statistics are used to describe and summarize the main features of a dataset. The most common descriptive statistics include measures of central tendency (e.g. mean, median, mode) and measures of variability (e.g. range, standard deviation, variance).\n",
    "\n",
    "Example: A company wants to summarize the salaries of its employees. They might use descriptive statistics to calculate the average salary, the highest and lowest salaries, and the standard deviation of salaries to describe the distribution of salaries within the company.\n",
    "\n",
    "Inferential statistics: These statistics are used to make inferences about a population based on a sample. Inferential statistics use probability theory to estimate population parameters (e.g. mean, proportion) from sample statistics (e.g. sample mean, sample proportion).\n",
    "\n",
    "Example: A political pollster wants to know what percentage of voters support a certain candidate. Instead of asking every voter, the pollster will take a random sample of voters and use inferential statistics to estimate the percentage of voters who support the candidate with a certain level of confidence."
   ]
  },
  {
   "cell_type": "markdown",
   "id": "a5af405b",
   "metadata": {},
   "source": [
    "---"
   ]
  },
  {
   "cell_type": "markdown",
   "id": "1dac8a3f",
   "metadata": {},
   "source": [
    "3. What are the different types of data and how do they differ from each other? Provide an example of each type of data."
   ]
  },
  {
   "cell_type": "markdown",
   "id": "ba920fc1",
   "metadata": {},
   "source": [
    "                                                                DATA\n",
    "                                                                    ├── Quantitative\n",
    "                                                                    │   ├── Discrete\n",
    "                                                                    │   └── Continuous\n",
    "                                                                    └── Qualitative\n",
    "                                                                        ├── Nominal\n",
    "                                                                        └── Ordinal\n",
    "Here's a description of each category:\n",
    "\n",
    "- Quantitative: This refers to numerical data that can be measured and expressed as a number or quantity.\n",
    "- Discrete: This refers to quantitative data that consists of whole numbers or countable values with no intermediate values.\n",
    "- Continuous: This refers to quantitative data that can take on any value within a range of values, including fractions or decimals.\n",
    "- Qualitative: This refers to non-numerical data that can be observed and recorded as categorical or descriptive data.\n",
    "- Nominal: This refers to qualitative data that is categorical and has no natural order or ranking between the categories.\n",
    "- Ordinal: This refers to qualitative data that is categorical and has a natural order or ranking between the categories."
   ]
  },
  {
   "cell_type": "markdown",
   "id": "4e6cbab8",
   "metadata": {},
   "source": [
    "---"
   ]
  },
  {
   "cell_type": "markdown",
   "id": "988c50cc",
   "metadata": {},
   "source": [
    "4. Categorise the following datasets with respect to quantitative and qualitative data types:\n",
    "\n",
    "(i) Grading in exam: A+, A, B+, B, C+, C, D, E\n",
    "\n",
    "(ii) Colour of mangoes: yellow, green, orange, red\n",
    "\n",
    "(iii) Height data of a class: [178.9, 179, 179.5, 176, 177.2, 178.3, 175.8,...]\n",
    "\n",
    "(iv) Number of mangoes exported by a farm: [500, 600, 478, 672, ...]"
   ]
  },
  {
   "cell_type": "markdown",
   "id": "7e5c7970",
   "metadata": {},
   "source": [
    "1. Grading in exam: A+, A, B+, B, C+, C, D, E ==> Qualitative data (Ordinal data)\n",
    "2. Colour of mangoes: yellow, green, orange, red ==> Qualitative data (Nominal Data)\n",
    "3. Height data of a class: [178.9, 179, 179.5, 176, 177.2, 178.3, 175.8,...] ==> Quantitative data (Continous Data)]\n",
    "4. Number of mangoes exported by a farm: [500, 600, 478, 672, ...] ==> Quantitative data (Discrete)"
   ]
  },
  {
   "cell_type": "markdown",
   "id": "4c37136d",
   "metadata": {},
   "source": [
    "---"
   ]
  },
  {
   "cell_type": "markdown",
   "id": "3960cf1f",
   "metadata": {},
   "source": [
    "5. Explain the concept of levels of measurement and give an example of a variable for each level."
   ]
  },
  {
   "cell_type": "markdown",
   "id": "c598656c",
   "metadata": {},
   "source": [
    "Levels of measurement refer to the way in which variables are classified based on the properties of the data. There are four commonly recognized levels of measurement: nominal, ordinal, interval, and ratio.\n",
    "\n",
    "Nominal level of measurement: This level of measurement is characterized by the presence of categorical data, with no inherent order or hierarchy. Nominal variables are typically identified by their labels or names. Examples of nominal variables include gender (male, female, other), eye color (blue, brown, green), and type of pet (dog, cat, fish).\n",
    "\n",
    "Ordinal level of measurement: This level of measurement is characterized by data that can be arranged in a specific order or hierarchy. However, the intervals between values are not equal or measurable. Examples of ordinal variables include academic rankings (first, second, third), movie ratings (G, PG, PG-13, R), and socioeconomic status (low, middle, high).\n",
    "\n",
    "Interval level of measurement: This level of measurement is characterized by data that can be arranged in a specific order, and the intervals between values are equal and meaningful. However, there is no true zero point or absence of the attribute being measured. Examples of interval variables include temperature (in Celsius or Fahrenheit), IQ scores, and time (measured in hours, minutes, and seconds).\n",
    "\n",
    "Ratio level of measurement: This level of measurement is characterized by data that can be arranged in a specific order, the intervals between values are equal and meaningful, and there is a true zero point or absence of the attribute being measured. Examples of ratio variables include weight, height, income, and age.\n",
    "\n",
    "Understanding the levels of measurement is important because it determines which statistical analysis and tests are appropriate for the data."
   ]
  },
  {
   "cell_type": "markdown",
   "id": "24c61b0b",
   "metadata": {},
   "source": [
    "---"
   ]
  },
  {
   "cell_type": "markdown",
   "id": "5d9d3165",
   "metadata": {},
   "source": [
    "6. Why is it important to understand the level of measurement when analyzing data? Provide an example to illustrate your answer."
   ]
  },
  {
   "cell_type": "markdown",
   "id": "8df93eb8",
   "metadata": {},
   "source": [
    "Understanding the level of measurement is crucial when analyzing data because it determines which statistical analysis and tests are appropriate for the data. Using an inappropriate statistical method can lead to inaccurate or unreliable results. For instance, it is not appropriate to calculate the mean of nominal data, or to perform correlation analysis on ordinal data.\n",
    "\n",
    "Here's an example: Imagine a study comparing the effectiveness of two different types of medication in treating a disease. The researcher collects data on the age of the participants, the type of medication they received, and the time it took for their symptoms to improve. Age is a ratio variable, medication type is a nominal variable, and time is an interval variable.\n",
    "\n",
    "If the researcher uses the mean to describe the age of the participants, they are using an appropriate statistical method since age is a ratio variable. However, if the researcher tries to calculate the mean for medication type, they would be using an inappropriate method since medication type is a nominal variable.\n",
    "\n",
    "Similarly, if the researcher wants to measure the relationship between age and the time it takes for the symptoms to improve, they can use a correlation analysis since age is a ratio variable and time is an interval variable. However, if the researcher wants to compare the effectiveness of the two types of medication, they would need to use an appropriate statistical test for nominal data, such as a chi-square test or a logistic regression.\n",
    "\n",
    "Therefore, understanding the level of measurement is important to ensure that the appropriate statistical analysis is used and the results are reliable and accurate."
   ]
  },
  {
   "cell_type": "markdown",
   "id": "5995b7a3",
   "metadata": {},
   "source": [
    "---"
   ]
  },
  {
   "cell_type": "markdown",
   "id": "e81180f4",
   "metadata": {},
   "source": [
    "7. How nominal data type is different from ordinal data type."
   ]
  },
  {
   "cell_type": "markdown",
   "id": "31a84d6a",
   "metadata": {},
   "source": [
    "Nominal and ordinal data are both categorical data types, but they differ in terms of the level of measurement.\n",
    "\n",
    "Nominal data are characterized by data that have no inherent order or hierarchy. In other words, the values of nominal data cannot be arranged in a specific order. Nominal data are typically identified by their labels or names. Examples of nominal data include gender (male, female, other), eye color (blue, brown, green), and type of pet (dog, cat, fish).\n",
    "\n",
    "On the other hand, ordinal data are characterized by data that can be arranged in a specific order or hierarchy. However, the intervals between values are not equal or measurable. Examples of ordinal data include academic rankings (first, second, third), movie ratings (G, PG, PG-13, R), and socioeconomic status (low, middle, high)."
   ]
  },
  {
   "cell_type": "markdown",
   "id": "fb03b9fe",
   "metadata": {},
   "source": [
    "---"
   ]
  },
  {
   "cell_type": "markdown",
   "id": "a612cc53",
   "metadata": {},
   "source": [
    "8. Which type of plot can be used to display data in terms of range?"
   ]
  },
  {
   "cell_type": "markdown",
   "id": "f5d3c8ea",
   "metadata": {},
   "source": [
    "A box plot, also known as a box-and-whisker plot, can be used to display data in terms of range. A box plot displays the distribution of data based on five key summary statistics: the minimum value, the maximum value, the first quartile, the median, and the third quartile."
   ]
  },
  {
   "cell_type": "markdown",
   "id": "ac13607a",
   "metadata": {},
   "source": [
    "---"
   ]
  },
  {
   "cell_type": "markdown",
   "id": "4c0237cf",
   "metadata": {},
   "source": [
    "9. Describe the difference between descriptive and inferential statistics. Give an example of each type of statistics and explain how they are used."
   ]
  },
  {
   "cell_type": "markdown",
   "id": "d0a80fd9",
   "metadata": {},
   "source": [
    "Descriptive statistics and inferential statistics are two broad categories of statistical analysis.\n",
    "\n",
    "Descriptive statistics are used to describe and summarize the features of a data set. They provide information about the central tendency, dispersion, and shape of the data. Examples of descriptive statistics include measures of central tendency (such as the mean, median, and mode), measures of dispersion (such as the range, standard deviation, and variance), and graphical representations of the data (such as histograms and box plots).\n",
    "\n",
    "For example, a researcher may use descriptive statistics to describe the demographic characteristics of a sample of study participants, including their age, gender, and education level. The researcher may calculate the mean age of the participants, the percentage of males and females in the sample, and the distribution of education levels.\n",
    "\n",
    "Inferential statistics, on the other hand, are used to make inferences about a population based on a sample of data. They allow researchers to draw conclusions about a population based on limited data. Inferential statistics involve hypothesis testing, estimation, and prediction. Examples of inferential statistics include t-tests, ANOVA, regression analysis, and confidence intervals.\n",
    "\n",
    "For example, a researcher may use inferential statistics to test whether a new drug is more effective than an existing drug in treating a certain disease. The researcher may randomly assign participants to either the new drug or the existing drug group, and then compare the outcomes between the two groups using a t-test or ANOVA. The results of the test would allow the researcher to infer whether the new drug is more effective than the existing drug in treating the disease.\n",
    "\n",
    "In summary, descriptive statistics are used to summarize and describe data, while inferential statistics are used to make inferences and draw conclusions about a larger population based on a sample of data. Both types of statistics are important in data analysis, and are often used in combination to gain a comprehensive understanding of the data."
   ]
  },
  {
   "cell_type": "markdown",
   "id": "fd0545a8",
   "metadata": {},
   "source": [
    "---"
   ]
  },
  {
   "cell_type": "markdown",
   "id": "a6ea6b55",
   "metadata": {},
   "source": [
    "10. What are some common measures of central tendency and variability used in statistics? Explain how each measure can be used to describe a dataset."
   ]
  },
  {
   "cell_type": "code",
   "execution_count": null,
   "id": "dafdc6ae",
   "metadata": {},
   "outputs": [],
   "source": []
  }
 ],
 "metadata": {
  "kernelspec": {
   "display_name": "Python 3 (ipykernel)",
   "language": "python",
   "name": "python3"
  },
  "language_info": {
   "codemirror_mode": {
    "name": "ipython",
    "version": 3
   },
   "file_extension": ".py",
   "mimetype": "text/x-python",
   "name": "python",
   "nbconvert_exporter": "python",
   "pygments_lexer": "ipython3",
   "version": "3.10.4"
  }
 },
 "nbformat": 4,
 "nbformat_minor": 5
}
