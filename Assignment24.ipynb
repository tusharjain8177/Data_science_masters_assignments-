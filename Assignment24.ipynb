{
 "cells": [
  {
   "cell_type": "markdown",
   "id": "768b043b-acd0-465d-9023-531d8701a9d5",
   "metadata": {},
   "source": [
    "# Assignment 24"
   ]
  },
  {
   "cell_type": "code",
   "execution_count": 1,
   "id": "52b00cee-c1a3-435c-9f36-3980da9699d4",
   "metadata": {},
   "outputs": [],
   "source": [
    "# Consider following code to answer further questions:\n",
    "import pandas as pd\n",
    "course_name = ['Data Science', 'Machine Learning', 'Big Data', 'Data Engineer']\n",
    "duration = [2,3,6,4]\n",
    "df = pd.DataFrame(data = {'course_name' : course_name, 'duration' : duration})"
   ]
  },
  {
   "cell_type": "markdown",
   "id": "fd63caca-74e1-439a-9e93-5430c66660d7",
   "metadata": {},
   "source": [
    "1. Write a code to print the data present in the second row of the dataframe, df."
   ]
  },
  {
   "cell_type": "code",
   "execution_count": 2,
   "id": "ef336a9a-1aee-4381-a1a0-4960e757ccd1",
   "metadata": {},
   "outputs": [
    {
     "name": "stdout",
     "output_type": "stream",
     "text": [
      "course_name    Machine Learning\n",
      "duration                      3\n",
      "Name: 1, dtype: object\n"
     ]
    }
   ],
   "source": [
    "print(df.iloc[1])"
   ]
  },
  {
   "cell_type": "markdown",
   "id": "3d84dbe8-4209-4ad5-9322-e72011cbbae0",
   "metadata": {},
   "source": [
    "2. What is the difference between the functions loc and iloc in pandas.DataFrame?"
   ]
  },
  {
   "cell_type": "markdown",
   "id": "d121c14f-50cb-42d1-b44f-218ae6cdce1c",
   "metadata": {},
   "source": [
    "Both loc and iloc are indexer functions in Pandas that are used to select rows and columns from a dataframe based on their labels or position, respectively.\n",
    "\n",
    "The main difference between loc and iloc is the way they select the data. loc is used for label-based indexing, which means it selects data based on the row and column labels. iloc, on the other hand, is used for integer-based indexing, which means it selects data based on the integer location of the rows and columns.\n",
    "\n",
    "Here's an example to illustrate the difference between loc and iloc. Consider the following dataframe:"
   ]
  },
  {
   "cell_type": "code",
   "execution_count": 3,
   "id": "77ad4302-b9b3-4f94-833c-e9dfb37cb53d",
   "metadata": {},
   "outputs": [],
   "source": [
    "import pandas as pd\n",
    "\n",
    "df = pd.DataFrame({\n",
    "    'A': [1, 2, 3],\n",
    "    'B': [4, 5, 6],\n",
    "    'C': [7, 8, 9]\n",
    "}, index=['a', 'b', 'c'])\n"
   ]
  },
  {
   "cell_type": "code",
   "execution_count": 4,
   "id": "7228a3a9-bb60-42f3-b09d-c24979393c6e",
   "metadata": {},
   "outputs": [
    {
     "data": {
      "text/plain": [
       "5"
      ]
     },
     "execution_count": 4,
     "metadata": {},
     "output_type": "execute_result"
    }
   ],
   "source": [
    "df.loc['b', 'B']"
   ]
  },
  {
   "cell_type": "code",
   "execution_count": 5,
   "id": "347b0d00-0a03-44e6-9711-7d3c4cfa7bda",
   "metadata": {},
   "outputs": [
    {
     "data": {
      "text/plain": [
       "8"
      ]
     },
     "execution_count": 5,
     "metadata": {},
     "output_type": "execute_result"
    }
   ],
   "source": [
    "df.iloc[1, 2]"
   ]
  },
  {
   "cell_type": "markdown",
   "id": "74955672-248e-45e7-bded-8de852310fc8",
   "metadata": {},
   "source": [
    "3. Reindex the given dataframe using a variable, reindex = [3,0,1,2] and store it in the variable, new_df then find the output for both new_df.loc[2] and new_df.iloc[2].\n",
    "\n",
    "Did you observe any difference in both the outputs? If so then explain it.\n",
    "Consider the below code to answer further questions:\n",
    "import pandas as pd\n",
    "import numpy as np\n",
    "columns = ['column_1', 'column_2', 'column_3', 'column_4', 'column_5', 'column_6']\n",
    "indices = [1,2,3,4,5,6]\n",
    "#Creating a dataframe:\n",
    "df1 = pd.DataFrame(np.random.rand(6,6), columns = columns, index = indices)"
   ]
  },
  {
   "cell_type": "code",
   "execution_count": 6,
   "id": "2721bdb5-e794-409c-a349-52ddb49d3e35",
   "metadata": {},
   "outputs": [
    {
     "name": "stdout",
     "output_type": "stream",
     "text": [
      "course_name    Big Data\n",
      "duration              6\n",
      "Name: 2, dtype: object\n",
      "course_name    Machine Learning\n",
      "duration                      3\n",
      "Name: 1, dtype: object\n"
     ]
    }
   ],
   "source": [
    "import pandas as pd\n",
    "import numpy as np\n",
    "\n",
    "# Creating the original dataframe\n",
    "course_name = ['Data Science', 'Machine Learning', 'Big Data', 'Data Engineer']\n",
    "duration = [2, 3, 6, 4]\n",
    "df = pd.DataFrame(data={'course_name': course_name, 'duration': duration})\n",
    "\n",
    "# Reindexing the dataframe\n",
    "reindex = [3, 0, 1, 2]\n",
    "new_df = df.reindex(reindex)\n",
    "\n",
    "# Finding the output for new_df.loc[2] and new_df.iloc[2]\n",
    "print(new_df.loc[2])\n",
    "print(new_df.iloc[2])\n"
   ]
  },
  {
   "cell_type": "markdown",
   "id": "811caa33-65d9-4f1c-836e-fd8e880e86f7",
   "metadata": {},
   "source": [
    "4. Write a code to find the following statistical measurements for the above dataframe df1:\n",
    "\n",
    "    (i) mean of each and every column present in the dataframe.\n",
    "    \n",
    "    (ii) standard deviation of column, ‘column_2’"
   ]
  },
  {
   "cell_type": "code",
   "execution_count": 7,
   "id": "5af08d91-150a-4c5a-bfdf-e1a4452c17fe",
   "metadata": {},
   "outputs": [
    {
     "name": "stdout",
     "output_type": "stream",
     "text": [
      "Mean of each column:\n",
      " column_1    0.447844\n",
      "column_2    0.366882\n",
      "column_3    0.399057\n",
      "column_4    0.477018\n",
      "column_5    0.637513\n",
      "column_6    0.609202\n",
      "dtype: float64\n",
      "\n",
      "Standard deviation of column 'column_2': 0.24885523799506884\n"
     ]
    }
   ],
   "source": [
    "import pandas as pd\n",
    "import numpy as np\n",
    "\n",
    "# Creating the dataframe\n",
    "columns = ['column_1', 'column_2', 'column_3', 'column_4', 'column_5', 'column_6']\n",
    "indices = [1,2,3,4,5,6]\n",
    "df1 = pd.DataFrame(np.random.rand(6,6), columns=columns, index=indices)\n",
    "\n",
    "# Finding the mean of each column\n",
    "mean = df1.mean()\n",
    "print(\"Mean of each column:\\n\", mean)\n",
    "\n",
    "# Finding the standard deviation of column 'column_2'\n",
    "std_dev = df1['column_2'].std()\n",
    "print(\"\\nStandard deviation of column 'column_2':\", std_dev)"
   ]
  },
  {
   "cell_type": "markdown",
   "id": "332e5216-6b46-4320-9624-3883de6db06a",
   "metadata": {},
   "source": [
    "5. Replace the data present in the second row of column, ‘column_2’ by a string variable then find the\n",
    "mean of column, column_2.\n",
    "If you are getting errors in executing it then explain why.\n",
    "[Hint: To replace the data use df1.loc[] and equate this to string data of your choice.]"
   ]
  },
  {
   "cell_type": "code",
   "execution_count": 8,
   "id": "0a4516f7-abda-4dc4-a14a-1b976f8b830a",
   "metadata": {},
   "outputs": [
    {
     "name": "stdout",
     "output_type": "stream",
     "text": [
      "Mean of column 'column_2': 0.6123722915666475\n"
     ]
    }
   ],
   "source": [
    "import pandas as pd\n",
    "import numpy as np\n",
    "\n",
    "# Creating the dataframe\n",
    "columns = ['column_1', 'column_2', 'column_3', 'column_4', 'column_5', 'column_6']\n",
    "indices = [1,2,3,4,5,6]\n",
    "df1 = pd.DataFrame(np.random.rand(6,6), columns=columns, index=indices)\n",
    "\n",
    "# Replacing the data in the second row of 'column_2' with a string variable\n",
    "df1.loc[2, 'column_2'] = 'string data'\n",
    "\n",
    "# Converting the 'column_2' column to a numeric type\n",
    "df1['column_2'] = pd.to_numeric(df1['column_2'], errors='coerce')\n",
    "\n",
    "# Finding the mean of the 'column_2' column\n",
    "mean = df1['column_2'].mean()\n",
    "print(\"Mean of column 'column_2':\", mean)"
   ]
  },
  {
   "cell_type": "markdown",
   "id": "1e39c07b-f15a-4a95-8bc7-12fa98e62253",
   "metadata": {},
   "source": [
    "6. What do you understand about the windows function in pandas and list the types of windows functions?"
   ]
  },
  {
   "cell_type": "markdown",
   "id": "6ad5391b-f392-478d-9278-fc3021338129",
   "metadata": {},
   "source": [
    "In pandas, a window function is used to perform calculations on a subset of rows in a dataframe based on a sliding window. The window slides over the rows of the dataframe, and the function is applied to each window.\n",
    "\n",
    "There are several types of window functions in pandas:\n",
    "\n",
    "Rolling window function: A rolling window function is used to perform calculations on a fixed-size sliding window of rows. It is typically used for time-series data analysis. The rolling() function is used to create a rolling window object, which can then be used to apply various aggregation functions such as mean, median, max, min, etc.\n",
    "\n",
    "Expanding window function: An expanding window function is used to perform calculations on a growing window of rows. The window starts with the first row of the dataframe and expands with each subsequent row. The expanding() function is used to create an expanding window object, which can then be used to apply various aggregation functions.\n",
    "\n",
    "Exponential weighted window function: An exponential weighted window function is used to give more weight to recent values in a time series than to older values. It is typically used to perform moving averages. The ewm() function is used to create an exponential weighted window object, which can then be used to apply various aggregation functions.\n",
    "\n",
    "Rolling time window function: A rolling time window function is used to perform calculations on a fixed-size sliding window of time intervals. It is similar to the rolling window function, but instead of using a fixed-size sliding window of rows, it uses a fixed-size sliding window of time intervals. The rolling() function can also be used to create a rolling time window object.\n",
    "\n",
    "Groupby window function: A groupby window function is used to perform calculations on subsets of rows in a dataframe based on one or more grouping columns. The groupby() function is used to create a groupby object, which can then be used to apply various aggregation functions to each group separately."
   ]
  },
  {
   "cell_type": "markdown",
   "id": "ddf5c028-f9d5-4ed9-ad57-557d9e3f9601",
   "metadata": {},
   "source": [
    "7. Write a code to print only the current month and year at the time of answering this question.\n",
    "[Hint: Use pandas.datetime function]"
   ]
  },
  {
   "cell_type": "code",
   "execution_count": 9,
   "id": "e88d50c8-05a3-41eb-8eb9-9f00ee4efd53",
   "metadata": {},
   "outputs": [
    {
     "name": "stdout",
     "output_type": "stream",
     "text": [
      "Current month: 2\n",
      "Current year: 2023\n"
     ]
    },
    {
     "name": "stderr",
     "output_type": "stream",
     "text": [
      "/tmp/ipykernel_1756/16216406.py:3: FutureWarning: The pandas.datetime class is deprecated and will be removed from pandas in a future version. Import from datetime module instead.\n",
      "  now = pd.datetime.now()\n"
     ]
    }
   ],
   "source": [
    "import pandas as pd\n",
    "\n",
    "now = pd.datetime.now()\n",
    "current_month = now.month\n",
    "current_year = now.year\n",
    "\n",
    "print(\"Current month:\", current_month)\n",
    "print(\"Current year:\", current_year)\n"
   ]
  },
  {
   "cell_type": "markdown",
   "id": "6dfd0b0f-536f-4b6f-bb8a-7aecee3ee006",
   "metadata": {},
   "source": [
    "8. Write a Python program that takes in two dates as input (in the format YYYY-MM-DD) and calculates the difference between them in days, hours, and minutes using Pandas time delta. The program should prompt the user to enter the dates and display the result."
   ]
  },
  {
   "cell_type": "code",
   "execution_count": 10,
   "id": "6898cbf7-5c1e-4d96-8674-3e0af25e4503",
   "metadata": {},
   "outputs": [
    {
     "name": "stdin",
     "output_type": "stream",
     "text": [
      "Enter the first date (YYYY-MM-DD):  20-01-2023\n",
      "Enter the second date (YYYY-MM-DD):  26-02-2023\n"
     ]
    },
    {
     "name": "stdout",
     "output_type": "stream",
     "text": [
      "Time difference between 20-01-2023 and 26-02-2023\n",
      "Days: 37\n",
      "Hours: 0\n",
      "Minutes: 0\n"
     ]
    },
    {
     "name": "stderr",
     "output_type": "stream",
     "text": [
      "/tmp/ipykernel_1756/4260165575.py:8: UserWarning: Parsing dates in DD/MM/YYYY format when dayfirst=False (the default) was specified. This may lead to inconsistently parsed dates! Specify a format to ensure consistent parsing.\n",
      "  date1 = pd.to_datetime(date1_str)\n",
      "/tmp/ipykernel_1756/4260165575.py:9: UserWarning: Parsing dates in DD/MM/YYYY format when dayfirst=False (the default) was specified. This may lead to inconsistently parsed dates! Specify a format to ensure consistent parsing.\n",
      "  date2 = pd.to_datetime(date2_str)\n"
     ]
    }
   ],
   "source": [
    "import pandas as pd\n",
    "\n",
    "# Prompt the user to enter the dates\n",
    "date1_str = input(\"Enter the first date (YYYY-MM-DD): \")\n",
    "date2_str = input(\"Enter the second date (YYYY-MM-DD): \")\n",
    "\n",
    "# Convert the input strings to Pandas datetime objects\n",
    "date1 = pd.to_datetime(date1_str)\n",
    "date2 = pd.to_datetime(date2_str)\n",
    "\n",
    "# Calculate the time difference between the two dates\n",
    "time_diff = date2 - date1\n",
    "\n",
    "# Calculate the number of days, hours, and minutes in the time difference\n",
    "days = time_diff.days\n",
    "hours = time_diff.seconds // 3600\n",
    "minutes = (time_diff.seconds % 3600) // 60\n",
    "\n",
    "# Display the result\n",
    "print(\"Time difference between\", date1_str, \"and\", date2_str)\n",
    "print(\"Days:\", days)\n",
    "print(\"Hours:\", hours)\n",
    "print(\"Minutes:\", minutes)\n"
   ]
  },
  {
   "cell_type": "markdown",
   "id": "a259c9a3-ab44-442b-b2c8-adcaf1e0ae51",
   "metadata": {},
   "source": [
    "9. Write a Python program that reads a CSV file containing categorical data and converts a specified column to a categorical data type. The program should prompt the user to enter the file path, column name, and category order, and then display the sorted data."
   ]
  },
  {
   "cell_type": "code",
   "execution_count": 11,
   "id": "ef0fe1fa-550b-4603-9e87-5b76f7b10219",
   "metadata": {},
   "outputs": [
    {
     "name": "stdin",
     "output_type": "stream",
     "text": [
      "Please enter the path of the CSV file:  demo.csv\n",
      "Please enter the name of the column to convert to a categorical data type:  Gender\n",
      "Please enter the category order (separated by commas):  Female,Male\n"
     ]
    },
    {
     "name": "stdout",
     "output_type": "stream",
     "text": [
      "       Name  Gender   Color\n",
      "0     Alice  Female     Red\n",
      "3  Danielle  Female  Yellow\n",
      "5     Fiona  Female     Red\n",
      "6      Gina  Female    Blue\n",
      "9   Jasmine  Female    Blue\n",
      "1       Bob    Male   Green\n",
      "2   Charlie    Male    Blue\n",
      "4     Ethan    Male   Green\n",
      "7     Henry    Male  Yellow\n",
      "8      Ivan    Male   Green\n"
     ]
    }
   ],
   "source": [
    "\n",
    "import pandas as pd\n",
    "\n",
    "# User input\n",
    "file_path = input('Please enter the path of the CSV file: ')\n",
    "col_name = input('Please enter the name of the column to convert to a categorical data type: ')\n",
    "category_order = input('Please enter the category order (separated by commas): ')\n",
    "\n",
    "# Read CSV file\n",
    "data = pd.read_csv(file_path)\n",
    "\n",
    "# Convert the specified column to categorical\n",
    "data[col_name] = pd.Categorical(data[col_name], categories=category_order.split(','))\n",
    "\n",
    "# Sort the data by the categorical column\n",
    "sorted_data = data.sort_values(by=col_name)\n",
    "\n",
    "# Display the data\n",
    "print(sorted_data)"
   ]
  },
  {
   "cell_type": "markdown",
   "id": "f42f024b-0b2f-4af8-9128-c393e762e06c",
   "metadata": {},
   "source": [
    "10. Write a Python program that reads a CSV file containing sales data for different products and\n",
    "visualizes the data using a stacked bar chart to show the sales of each product category over time. The\n",
    "program should prompt the user to enter the file path and display the chart."
   ]
  },
  {
   "cell_type": "code",
   "execution_count": 13,
   "id": "5b680ad2-1eda-4264-a7fe-bfb994aae8ac",
   "metadata": {},
   "outputs": [
    {
     "name": "stderr",
     "output_type": "stream",
     "text": [
      "/tmp/ipykernel_1756/2548170873.py:11: FutureWarning: The default value of numeric_only in DataFrameGroupBy.sum is deprecated. In a future version, numeric_only will default to False. Either specify numeric_only or select only columns which should be valid for the function.\n",
      "  data_totals = data.groupby('Item').sum()\n"
     ]
    },
    {
     "data": {
      "image/png": "[encoded data removed]",
      "text/plain": [
       "<Figure size 640x480 with 1 Axes>"
      ]
     },
     "metadata": {},
     "output_type": "display_data"
    }
   ],
   "source": [
    "\n",
    "import pandas as pd\n",
    "import matplotlib.pyplot as plt \n",
    "\n",
    "# User input\n",
    "\n",
    "\n",
    "# Read CSV file\n",
    "data = pd.read_csv('file.csv')\n",
    "\n",
    "# Calculate totals by product category\n",
    "data_totals = data.groupby('Item').sum()\n",
    "\n",
    "# Create a stacked bar chart\n",
    "data_totals.plot(kind='bar', stacked=True)\n",
    "plt.title('Sales Totals by Item Over Time')\n",
    "plt.xlabel('Items')\n",
    "plt.ylabel('Total')\n",
    "\n",
    "# Display the chart\n",
    "plt.show()"
   ]
  },
  {
   "cell_type": "markdown",
   "id": "63314f1b-d71f-42ec-a445-c40127cd138d",
   "metadata": {},
   "source": [
    "11. You are given a CSV file containing student data that includes the student ID and their test score. Write\n",
    "a Python program that reads the CSV file, calculates the mean, median, and mode of the test scores, and\n",
    "displays the results in a table.\n",
    "The program should do the followingM\n",
    "I Prompt the user to enter the file path of the CSV file containing the student dataR\n",
    "I Read the CSV file into a Pandas DataFrameR\n",
    "I Calculate the mean, median, and mode of the test scores using Pandas toolsR\n",
    "I Display the mean, median, and mode in a table.\n",
    "Assume the CSV file contains the following columnsM\n",
    "I Student ID: The ID of the studentR\n",
    "I Test Score: The score of the student's test.\n",
    "Example usage of the program:\n",
    "Enter the file path of the CSV file containing the student data: student_data.csv\n",
    "+-----------+--------+\n",
    "| Statistic | Value |\n",
    "+-----------+--------+\n",
    "| Mean | 79.6 |\n",
    "| Median | 82 |\n",
    "| Mode | 85, 90 |\n",
    "+-----------+--------+\n",
    "Assume that the CSV file student_data.csv contains the following data:\n",
    "Student ID,Test Score\n",
    "1,85\n",
    "2,90\n",
    "3,80\n",
    "4,75\n",
    "5,85\n",
    "6,82\n",
    "7,78\n",
    "8,85\n",
    "9,90\n",
    "10,85\n",
    "The program should calculate the mean, median, and mode of the test scores and display the results\n",
    "in a table."
   ]
  },
  {
   "cell_type": "code",
   "execution_count": 19,
   "id": "b8ebe241-7720-4c9e-aa93-7e3c6280c30c",
   "metadata": {},
   "outputs": [
    {
     "name": "stdout",
     "output_type": "stream",
     "text": [
      "DataFrame:    Student ID  Test Score\n",
      "0           1          85\n",
      "1           2          90\n",
      "2           3          80\n",
      "3           4          75\n",
      "4           5          85\n",
      "5           6          82\n",
      "6           7          78\n",
      "7           8          85\n",
      "8           9          90\n",
      "9          10          85\n",
      "\n",
      "+-----------+--------+\n",
      "| Statistic | Value |\n",
      "+-----------+--------+\n",
      "| Mean | 83.5 |\n",
      "| Median | 85.0 |\n",
      "| Mode | 85 |\n",
      "+-----------+--------+\n"
     ]
    }
   ],
   "source": [
    "# Import libraries\n",
    "import csv\n",
    "import pandas as pd\n",
    "import statistics\n",
    "\n",
    "\n",
    "\n",
    "# Read the CSV file into a Pandas DataFrame\n",
    "df = pd.read_csv('studentScore.csv')\n",
    "\n",
    "print(\"DataFrame:\", df)\n",
    "print()\n",
    "\n",
    "# Calculate the mean, median, and mode of the test scores\n",
    "mean = df['Test Score'].mean()\n",
    "median = df['Test Score'].median()\n",
    "mode = statistics.mode(df['Test Score'])\n",
    "\n",
    "# Display the mean, median, and mode in a table\n",
    "print('+-----------+--------+')\n",
    "print('| Statistic | Value |')\n",
    "print('+-----------+--------+')\n",
    "print('| Mean | {:.1f} |'.format(mean))\n",
    "print('| Median | {} |'.format(median))\n",
    "print('| Mode | {} |'.format(mode))\n",
    "print('+-----------+--------+')\n"
   ]
  },
  {
   "cell_type": "code",
   "execution_count": null,
   "id": "c2a3ab7e-9a39-4919-bf16-3f342f6e94ec",
   "metadata": {},
   "outputs": [],
   "source": []
  }
 ],
 "metadata": {
  "kernelspec": {
   "display_name": "Python 3 (ipykernel)",
   "language": "python",
   "name": "python3"
  },
  "language_info": {
   "codemirror_mode": {
    "name": "ipython",
    "version": 3
   },
   "file_extension": ".py",
   "mimetype": "text/x-python",
   "name": "python",
   "nbconvert_exporter": "python",
   "pygments_lexer": "ipython3",
   "version": "3.10.8"
  }
 },
 "nbformat": 4,
 "nbformat_minor": 5
}
