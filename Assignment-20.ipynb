{
 "cells": [
  {
   "cell_type": "markdown",
   "id": "1166db66",
   "metadata": {},
   "source": [
    "# Assignment 20"
   ]
  },
  {
   "cell_type": "markdown",
   "id": "c899bebd",
   "metadata": {},
   "source": [
    "1. What is Web Scraping? Why is it Used? Give three areas where Web Scraping is used to get data."
   ]
  },
  {
   "cell_type": "markdown",
   "id": "854ec11e",
   "metadata": {},
   "source": [
    "Ans: \n",
    "\n",
    "Web scraping is the process of extracting information from websites using automated software tools. These tools use web crawling algorithms to visit web pages, extract the relevant data and then store it in a structured format such as a database or spreadsheet. \n",
    "\n",
    "Web scraping is used for a variety of purposes such as:\n",
    "\n",
    "1. Business intelligence: Companies use web scraping to gather competitive intelligence, monitor prices, and track market trends. By analyzing data obtained from web scraping, businesses can make informed decisions about product development, marketing strategies, and pricing.\n",
    "\n",
    "2. Research: Researchers use web scraping to collect data for academic or scientific research purposes. This may include gathering data on social media platforms, news websites, or government databases.\n",
    "\n",
    "3. Data journalism: Journalists use web scraping to gather data for stories and investigate topics that may not be easily accessible through traditional channels. For example, data journalists may scrape government websites to gather data on public spending or use social media data to analyze public sentiment around a particular issue.\n",
    "\n",
    "In summary, web scraping is a powerful tool that enables individuals and organizations to gather large amounts of data from websites quickly and efficiently. It can be used in a variety of fields including business, research, and journalism, among others."
   ]
  },
  {
   "cell_type": "markdown",
   "id": "49f1099b",
   "metadata": {},
   "source": [
    "2. What are the different methods used for Web Scraping?"
   ]
  },
  {
   "cell_type": "markdown",
   "id": "60214d9e",
   "metadata": {},
   "source": [
    "Ans:\n",
    "1. Using libraries: Web scraping libraries like BeautifulSoup, Scrapy, and Selenium are popular among developers. These libraries automate the process of web scraping, making it easier to extract data from websites.\n",
    "\n",
    "2. APIs: Some websites provide APIs (Application Programming Interfaces) that allow developers to access their data programmatically. This method is often faster and more reliable than web scraping.\n",
    "\n",
    "3. Custom scripts: Developers can write custom scripts in programming languages like Python, Ruby, or JavaScript to scrape data from websites. This method requires more technical knowledge but provides more control over the scraping process.\n",
    "\n",
    "4. Data scraping services: Some companies offer web scraping services that allow users to extract data from websites without writing any code. These services often require a subscription fee, but they can save time and effort for non-technical users."
   ]
  },
  {
   "cell_type": "markdown",
   "id": "9b5526cc",
   "metadata": {},
   "source": [
    "3. What is Beautiful Soup? Why is it used?"
   ]
  },
  {
   "cell_type": "markdown",
   "id": "31cac3bb",
   "metadata": {},
   "source": [
    "Ans: Beautiful Soup is a Python library used for web scraping purposes. It provides a simple and easy-to-use interface for parsing HTML and XML documents, extracting data, and navigating the document tree structure.\n",
    "\n",
    "Beautiful Soup can be used to extract data from web pages that are not accessible via APIs or other methods. It can be used to automate the extraction of data from multiple pages, allowing for the creation of large datasets.\n",
    "\n",
    "The library supports various types of parsers, including lxml, html5lib, and html.parser. Beautiful Soup also has powerful search and filtering capabilities, which make it easy to locate specific elements within a document tree.\n",
    "\n",
    "Overall, Beautiful Soup is a popular tool among developers and data analysts for its ability to parse and extract data from HTML and XML documents, which is essential for various applications such as web scraping, data analysis, and natural language processing."
   ]
  },
  {
   "cell_type": "markdown",
   "id": "f71c4a26",
   "metadata": {},
   "source": [
    "4. Why is flask used in this Web Scraping project?"
   ]
  },
  {
   "cell_type": "markdown",
   "id": "5ef56672",
   "metadata": {},
   "source": [
    "Ans: Flask is a Python web framework that is often used in web scraping projects for several reasons:\n",
    "\n",
    "Routing: Flask provides an easy and flexible way to define routes and handle HTTP requests, which makes it easy to create web scraping APIs and web applications.\n",
    "\n",
    "Lightweight: Flask is a lightweight framework that is easy to set up and use. It doesn't require a lot of configuration, which makes it ideal for small to medium-sized web scraping projects.\n",
    "\n",
    "Integration: Flask can easily integrate with other Python libraries and tools used in web scraping, such as Beautiful Soup, Requests, and Pandas. This makes it easy to build web scraping pipelines and automate data extraction and processing.\n",
    "\n",
    "Deployment: Flask can be deployed on various platforms, including cloud services like Heroku and AWS, which makes it easy to host and scale web scraping applications.\n",
    "\n",
    "In a web scraping project, Flask can be used to create a web interface for users to interact with the scraping tool, or to create an API that allows other applications to access the scraped data. Flask can also be used to automate the scraping process, schedule scraping tasks, and manage data storage and processing."
   ]
  },
  {
   "cell_type": "markdown",
   "id": "c9ed8e2a",
   "metadata": {},
   "source": [
    "5. Write the names of AWS services used in this project. Also, explain the use of each service."
   ]
  },
  {
   "cell_type": "code",
   "execution_count": null,
   "id": "afc5d8e6",
   "metadata": {},
   "outputs": [],
   "source": []
  }
 ],
 "metadata": {
  "kernelspec": {
   "display_name": "Python 3 (ipykernel)",
   "language": "python",
   "name": "python3"
  },
  "language_info": {
   "codemirror_mode": {
    "name": "ipython",
    "version": 3
   },
   "file_extension": ".py",
   "mimetype": "text/x-python",
   "name": "python",
   "nbconvert_exporter": "python",
   "pygments_lexer": "ipython3",
   "version": "3.10.4"
  }
 },
 "nbformat": 4,
 "nbformat_minor": 5
}
