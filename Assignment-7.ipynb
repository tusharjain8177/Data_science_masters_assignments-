{
 "cells": [
  {
   "cell_type": "markdown",
   "id": "875dae1b",
   "metadata": {},
   "source": [
    "# Assignment 7"
   ]
  },
  {
   "cell_type": "markdown",
   "id": "a0471c70",
   "metadata": {},
   "source": [
    "1. Create a function which will take a list as an argument and return the product of all the numbers after creating a flat list. Use the below-given list as an argument for your function.\n",
    "\n",
    "list1 = [1,2,3,4, [44,55,66, True], False, (34,56,78,89,34), {1,2,3,3,2,1}, {1:34, \"key2\": [55, 67, 78, 89], 4: (45,\n",
    "22, 61, 34)}, [56, 'data science'], 'Machine Learning']\n",
    "Note: you must extract numeric keys and values of the dictionary also."
   ]
  },
  {
   "cell_type": "code",
   "execution_count": 1,
   "id": "a50fc878",
   "metadata": {},
   "outputs": [
    {
     "name": "stdout",
     "output_type": "stream",
     "text": [
      "0\n"
     ]
    }
   ],
   "source": [
    "def product_of_numbers(lst):\n",
    "    numbers = []\n",
    "    for item in lst:\n",
    "        if isinstance(item, (int, float)):\n",
    "            numbers.append(item)\n",
    "        elif isinstance(item, list):\n",
    "            numbers += [x for x in item if isinstance(x, (int, float))]\n",
    "        elif isinstance(item, tuple):\n",
    "            numbers += [x for x in item if isinstance(x, (int, float))]\n",
    "        elif isinstance(item, dict):\n",
    "            for key, value in item.items():\n",
    "                if isinstance(key, (int, float)):\n",
    "                    numbers.append(key)\n",
    "                elif isinstance(value, (int, float)):\n",
    "                    numbers.append(value)\n",
    "    res = 1\n",
    "    for num in numbers:\n",
    "        res *= num\n",
    "    \n",
    "    return res\n",
    "\n",
    "list1 = [1,2,3,4, [44,55,66, True], False, (34,56,78,89,34), {1,2,3,3,2,1}, {1:34, \"key2\": [55, 67, 78, 89], 4: (45, 22, 61, 34)}, [56, 'data science'], 'Machine Learning']\n",
    "\n",
    "print(product_of_numbers(list1))"
   ]
  },
  {
   "cell_type": "markdown",
   "id": "df5964c8",
   "metadata": {},
   "source": [
    "2. Write a python program for encrypting a message sent to you by your friend. The logic of encryption should be such that, for a the output should be z. For b, the output should be y. For c, the output should be x respectively. Also, the whitespace should be replaced with a dollar sign. Keep the punctuation marks unchanged.\n",
    "\n",
    "Input Sentence: I want to become a Data Scientist.\n",
    "Encrypt the above input sentence using the program you just created.\n",
    "Note: Convert the given input sentence into lowercase before encrypting. The final output should be\n",
    "lowercase."
   ]
  },
  {
   "cell_type": "code",
   "execution_count": 3,
   "id": "5ca4b8f3",
   "metadata": {},
   "outputs": [
    {
     "name": "stdout",
     "output_type": "stream",
     "text": [
      "Encrypted message: r$dzmg$gl$yvxlnv$z$wzgz$hxrvmgrhg.\n"
     ]
    }
   ],
   "source": [
    "# {\n",
    "#         'a': 'z',\n",
    "#         'b': 'y',\n",
    "#         'c': 'x',\n",
    "#         'd': 'w',\n",
    "#         'e': 'v',\n",
    "#         'f': 'u',\n",
    "#         'g': 't',\n",
    "#         'h': 's',\n",
    "#         'i': 'r',\n",
    "#         'j': 'q',\n",
    "#         'k': 'p',\n",
    "#         'l': 'o',\n",
    "#         'm': 'n',\n",
    "#         'n': 'm',\n",
    "#         'o': 'l',\n",
    "#         'p': 'k',\n",
    "#         'q': 'j',\n",
    "#         'r': 'i',\n",
    "#         's': 'h',\n",
    "#         't': 'g',\n",
    "#         'u': 'f',\n",
    "#         'v': 'e',\n",
    "#         'w': 'd',\n",
    "#         'x': 'c',\n",
    "#         'y': 'b',\n",
    "#         'z': 'a',\n",
    "#         ' ': '$'\n",
    "#     }\n",
    "\n",
    "def encrypte_msg(msg):\n",
    "    msg = msg.lower()\n",
    "    \n",
    "    encryption_dict = {\n",
    "        'a': 'z',\n",
    "        'b': 'y',\n",
    "        'c': 'x',\n",
    "        'd': 'w',\n",
    "        'e': 'v',\n",
    "        'f': 'u',\n",
    "        'g': 't',\n",
    "        'h': 's',\n",
    "        'i': 'r',\n",
    "        'j': 'q',\n",
    "        'k': 'p',\n",
    "        'l': 'o',\n",
    "        'm': 'n',\n",
    "        'n': 'm',\n",
    "        'o': 'l',\n",
    "        'p': 'k',\n",
    "        'q': 'j',\n",
    "        'r': 'i',\n",
    "        's': 'h',\n",
    "        't': 'g',\n",
    "        'u': 'f',\n",
    "        'v': 'e',\n",
    "        'w': 'd',\n",
    "        'x': 'c',\n",
    "        'y': 'b',\n",
    "        'z': 'a',\n",
    "        ' ': '$'\n",
    "    }\n",
    "    \n",
    "    encrypted_message = []\n",
    "    \n",
    "    for char in msg:\n",
    "        if char in encryption_dict:\n",
    "            encrypted_message.append(encryption_dict[char])\n",
    "        else:\n",
    "            encrypted_message.append(char)\n",
    "    \n",
    "    return ''.join(encrypted_message)\n",
    "\n",
    "message = \"I want to become a Data Scientist.\"\n",
    "encrypted_message = encrypte_msg(message)\n",
    "print(\"Encrypted message:\", encrypted_message)\n"
   ]
  },
  {
   "cell_type": "code",
   "execution_count": null,
   "id": "bca4f0f5",
   "metadata": {},
   "outputs": [],
   "source": []
  }
 ],
 "metadata": {
  "kernelspec": {
   "display_name": "Python 3 (ipykernel)",
   "language": "python",
   "name": "python3"
  },
  "language_info": {
   "codemirror_mode": {
    "name": "ipython",
    "version": 3
   },
   "file_extension": ".py",
   "mimetype": "text/x-python",
   "name": "python",
   "nbconvert_exporter": "python",
   "pygments_lexer": "ipython3",
   "version": "3.10.4"
  }
 },
 "nbformat": 4,
 "nbformat_minor": 5
}
