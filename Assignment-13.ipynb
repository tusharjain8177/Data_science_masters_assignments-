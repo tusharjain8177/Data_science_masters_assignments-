{
 "cells": [
  {
   "cell_type": "markdown",
   "id": "c2da433d",
   "metadata": {},
   "source": [
    "# Assignment 13"
   ]
  },
  {
   "cell_type": "markdown",
   "id": "63902027",
   "metadata": {},
   "source": [
    "1. What is multithreading in python? hy is it used? Name the module used to handle threads in python"
   ]
  },
  {
   "cell_type": "markdown",
   "id": "33d4e76b",
   "metadata": {},
   "source": [
    "Ans: Multithreading in Python is the ability to execute multiple threads simultaneously. It allows programs to run faster and make better use of available system resources. The threading module is used to handle threads in Python. It provides an easy way to create and manage threads in Python programs. The module provides basic synchronization primitives such as locks, events, and semaphores. It also provides access to advanced features such as thread-local data and the ability to control thread execution.\n",
    "\n",
    "Multithreading in Python is used to improve the performance and speed of programs. By using multiple threads to execute tasks simultaneously, programs can make better use of available system resources and run faster. Additionally, it allows for more flexible control over the program's execution and can provide more efficient ways to process data.\n",
    "\n",
    "The threading module is used to handle threads in Python. It provides an easy way to create and manage threads in Python programs. The module provides basic synchronization primitives such as locks, events, and semaphores. It also provides access to advanced features such as thread-local data and the ability to control thread execution."
   ]
  },
  {
   "cell_type": "code",
   "execution_count": 1,
   "id": "7d163a77",
   "metadata": {},
   "outputs": [
    {
     "name": "stdout",
     "output_type": "stream",
     "text": [
      "Worker: 0\n",
      "Worker: 1\n",
      "Worker: 2\n",
      "Worker: 3\n",
      "Worker: 4\n"
     ]
    }
   ],
   "source": [
    "import threading\n",
    "\n",
    "def worker(num):\n",
    "    \"\"\"thread worker function\"\"\"\n",
    "    print('Worker: %s' % num)\n",
    "    return\n",
    "\n",
    "threads = []\n",
    "for i in range(5):\n",
    "    t = threading.Thread(target=worker, args=(i,))\n",
    "    threads.append(t)\n",
    "    t.start()"
   ]
  },
  {
   "cell_type": "markdown",
   "id": "92724401",
   "metadata": {},
   "source": [
    "2. Why threading module used? Write the use of the following functions:\n",
    "\n",
    "    1. activeCount()\n",
    "    2. currentThread()\n",
    "    3. enumerate()"
   ]
  },
  {
   "cell_type": "markdown",
   "id": "addcb533",
   "metadata": {},
   "source": [
    "Ans: The threading module is used to handle threads in Python. It provides an easy way to create and manage threads in Python programs. It also provides basic synchronization primitives such as locks, events, and semaphores. Additionally, it provides access to advanced features such as thread-local data and the ability to control thread execution.\n",
    "\n",
    "1. activeCount(): This function returns the number of active threads in the current thread group.\n",
    "2. currentThread(): This function returns a reference to the current thread.\n",
    "3. enumerate(): This function returns a list of all threads currently alive."
   ]
  },
  {
   "cell_type": "markdown",
   "id": "8f16b3e4",
   "metadata": {},
   "source": [
    "3. Explain the following functions:\n",
    "\n",
    "    1. run()\n",
    "    2. start()\n",
    "    3. join()\n",
    "    4. isAllive()"
   ]
  },
  {
   "cell_type": "markdown",
   "id": "6f1530fa",
   "metadata": {},
   "source": [
    "Ans:\n",
    "\n",
    "1. run(): The run() function is the entry point for a thread. It is the method that is executed when the thread is started.\n",
    "2. start(): The start() function is used to start a thread. It calls the run() method to begin execution of the thread.\n",
    "3. join(): The join() function is used to make the calling thread wait until the thread that it is joining completes its execution.\n",
    "4. isAlive(): The isAlive() function is used to check if a thread is still running. It returns a boolean value indicating whether the thread is still running or not.\n"
   ]
  },
  {
   "cell_type": "markdown",
   "id": "bd5b6422",
   "metadata": {},
   "source": [
    "4. write a python program to create two threads. Thread one must print the list of squares and thread two must print the list of cubes"
   ]
  },
  {
   "cell_type": "code",
   "execution_count": 2,
   "id": "027d5cb3",
   "metadata": {},
   "outputs": [
    {
     "name": "stdout",
     "output_type": "stream",
     "text": [
      "Squares:\n",
      "1\n",
      "4\n",
      "9\n",
      "16\n",
      "25\n",
      "36\n",
      "49\n",
      "64\n",
      "81\n",
      "100\n",
      "Cubes:\n",
      "1\n",
      "8\n",
      "27\n",
      "64\n",
      "125\n",
      "216\n",
      "343\n",
      "512\n",
      "729\n",
      "1000\n"
     ]
    }
   ],
   "source": [
    "import threading\n",
    "\n",
    "def squares():\n",
    "    print(\"Squares:\")\n",
    "    for i in range(1, 11):\n",
    "        print(i**2)\n",
    "\n",
    "def cubes():\n",
    "    print(\"Cubes:\")\n",
    "    for i in range(1, 11):\n",
    "        print(i**3)\n",
    "\n",
    "# Create the threads\n",
    "t1 = threading.Thread(target=squares)\n",
    "t2 = threading.Thread(target=cubes)\n",
    "\n",
    "# Start the threads\n",
    "t1.start()\n",
    "t2.start()\n",
    "\n",
    "# Wait for the threads to finish\n",
    "t1.join()\n",
    "t2.join()"
   ]
  },
  {
   "cell_type": "markdown",
   "id": "f71ddc28",
   "metadata": {},
   "source": [
    "5. State advantages and disadvantages of multithreading"
   ]
  },
  {
   "cell_type": "markdown",
   "id": "8349bb88",
   "metadata": {},
   "source": [
    "Advantages of Multithreading:\n",
    "\n",
    "1. Multithreading can increase the performance of a program by allowing multiple tasks to be executed independently and concurrently.\n",
    "2. It can also help to reduce the amount of time needed to complete a task by allowing tasks to be performed in parallel.\n",
    "3. Multithreading also reduces the response time of a program by allowing tasks to be performed asynchronously.\n",
    "4. Multithreading can also help to improve the scalability of a program by allowing more tasks to be executed simultaneously.\n",
    "\n",
    "Disadvantages of Multithreading:\n",
    "\n",
    "1. Multithreading can increase the complexity of a program, as it requires the programmer to manage multiple threads of execution.\n",
    "2. Multithreading can also introduce race conditions and other concurrency-related issues, which can be difficult to debug and resolve.\n",
    "3. Multithreading can also cause a decrease in performance if not used judiciously, as it requires additional system resources to manage multiple threads."
   ]
  },
  {
   "cell_type": "markdown",
   "id": "29daa82e",
   "metadata": {},
   "source": [
    "6. Explain deadlocks and race conditions."
   ]
  },
  {
   "cell_type": "code",
   "execution_count": null,
   "id": "42c6bafb",
   "metadata": {},
   "outputs": [],
   "source": []
  }
 ],
 "metadata": {
  "kernelspec": {
   "display_name": "Python 3 (ipykernel)",
   "language": "python",
   "name": "python3"
  },
  "language_info": {
   "codemirror_mode": {
    "name": "ipython",
    "version": 3
   },
   "file_extension": ".py",
   "mimetype": "text/x-python",
   "name": "python",
   "nbconvert_exporter": "python",
   "pygments_lexer": "ipython3",
   "version": "3.10.4"
  }
 },
 "nbformat": 4,
 "nbformat_minor": 5
}
