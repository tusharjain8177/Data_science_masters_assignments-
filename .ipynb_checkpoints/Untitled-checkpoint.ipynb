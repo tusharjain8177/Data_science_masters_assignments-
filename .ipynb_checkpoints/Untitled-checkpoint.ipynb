{
 "cells": [
  {
   "cell_type": "markdown",
   "id": "a82307d0",
   "metadata": {},
   "source": [
    "# Assignment-9"
   ]
  },
  {
   "cell_type": "markdown",
   "id": "43ddc3d3",
   "metadata": {},
   "source": [
    "1. Create a vehicle class with an init method having instance variables as name_of_vehicle, max_speed and average_of_vehicle."
   ]
  },
  {
   "cell_type": "code",
   "execution_count": 1,
   "id": "fe0e6a08",
   "metadata": {},
   "outputs": [
    {
     "name": "stdout",
     "output_type": "stream",
     "text": [
      "Name of Vehicle:  Lamborghini\n",
      "Maximum Speed:  220\n",
      "Average of Vehicle:  12\n"
     ]
    }
   ],
   "source": [
    "class Vehicle:\n",
    "    def __init__(self, name_of_vehicle, max_speed, average_of_vehicle):\n",
    "        self.name_of_vehicle = name_of_vehicle\n",
    "        self.max_speed = max_speed\n",
    "        self.average_of_vehicle = average_of_vehicle\n",
    "\n",
    "car = Vehicle(\"Lamborghini\", 220, 12)\n",
    "print(\"Name of Vehicle: \", car.name_of_vehicle)\n",
    "print(\"Maximum Speed: \", car.max_speed)\n",
    "print(\"Average of Vehicle: \", car.average_of_vehicle)"
   ]
  },
  {
   "cell_type": "markdown",
   "id": "58b1e0f9",
   "metadata": {},
   "source": [
    "2. Create a child class car from the vehicle class created in Que 1, which will inherit the vehicle class. Create a method named seating_capacity which takes capacity as an argument and returns the name of the vehicle and its seating capacity."
   ]
  },
  {
   "cell_type": "code",
   "execution_count": 2,
   "id": "aa6c107f",
   "metadata": {},
   "outputs": [
    {
     "name": "stdout",
     "output_type": "stream",
     "text": [
      "Name of Vehicle: Lamborghini\n",
      "Seating Capacity: 2\n"
     ]
    }
   ],
   "source": [
    "class Car(Vehicle):\n",
    "    def seating_capacity(self, capacity):\n",
    "        return \"Name of Vehicle: {}\\nSeating Capacity: {}\".format(self.name_of_vehicle, capacity)\n",
    "\n",
    "my_car = Car(\"Lamborghini\", 220, 12)\n",
    "print(my_car.seating_capacity(2))"
   ]
  },
  {
   "cell_type": "markdown",
   "id": "35decfcf",
   "metadata": {},
   "source": [
    "3. What is multiple inheritance? Write a python code to demonstrate multiple inheritance."
   ]
  },
  {
   "cell_type": "markdown",
   "id": "f4a92a52",
   "metadata": {},
   "source": [
    "Ans: Multiple inheritance is a feature of object-oriented programming languages that allows a single class to inherit properties and methods from multiple parent classes. This means that a single class can inherit characteristics from more than one base class.\n"
   ]
  },
  {
   "cell_type": "code",
   "execution_count": 3,
   "id": "24a89e73",
   "metadata": {},
   "outputs": [
    {
     "name": "stdout",
     "output_type": "stream",
     "text": [
      "V6\n",
      "Power Steering\n",
      "Lamborghini\n",
      "Engine Started\n",
      "Turned Left\n"
     ]
    }
   ],
   "source": [
    "class Engine:\n",
    "    def __init__(self, engine_type):\n",
    "        self.engine_type = engine_type\n",
    "        \n",
    "    def start_engine(self):\n",
    "        return \"Engine Started\"\n",
    "\n",
    "class Steering:\n",
    "    def __init__(self, steering_type):\n",
    "        self.steering_type = steering_type\n",
    "        \n",
    "    def turn_left(self):\n",
    "        return \"Turned Left\"\n",
    "\n",
    "class Car(Engine, Steering):\n",
    "    def __init__(self, engine_type, steering_type, car_name):\n",
    "        Engine.__init__(self, engine_type)\n",
    "        Steering.__init__(self, steering_type)\n",
    "        self.car_name = car_name\n",
    "\n",
    "my_car = Car(\"V6\", \"Power Steering\", \"Lamborghini\")\n",
    "print(my_car.engine_type)\n",
    "print(my_car.steering_type)\n",
    "print(my_car.car_name)\n",
    "print(my_car.start_engine())\n",
    "print(my_car.turn_left())"
   ]
  },
  {
   "cell_type": "markdown",
   "id": "09363630",
   "metadata": {},
   "source": [
    "4. What are getter and setter in python? Create a class and create a getter and a setter method in this class."
   ]
  },
  {
   "cell_type": "markdown",
   "id": "3a44c590",
   "metadata": {},
   "source": [
    "Ans: a getter is a method that is used to retrieve the value of an object's attribute, and a setter is a method used to set the value of an object's attribute. These methods are commonly used to enforce data encapsulation and to ensure that the internal state of an object is maintained in a consistent and valid state."
   ]
  },
  {
   "cell_type": "code",
   "execution_count": 4,
   "id": "7251dbc3",
   "metadata": {},
   "outputs": [
    {
     "name": "stdout",
     "output_type": "stream",
     "text": [
      "Radius:  5\n",
      "Radius:  10\n"
     ]
    }
   ],
   "source": [
    "class Circle:\n",
    "    def __init__(self, radius):\n",
    "        self.radius = radius\n",
    "        \n",
    "    def get_radius(self):\n",
    "        return self.radius\n",
    "    \n",
    "    def set_radius(self, radius):\n",
    "        self.radius = radius\n",
    "circle = Circle(5)\n",
    "print(\"Radius: \", circle.get_radius())\n",
    "\n",
    "circle.set_radius(10)\n",
    "print(\"Radius: \", circle.get_radius())"
   ]
  },
  {
   "cell_type": "markdown",
   "id": "8ef09f99",
   "metadata": {},
   "source": [
    "5. What is method overriding in python? Write a python code to demonstrate method overriding."
   ]
  },
  {
   "cell_type": "markdown",
   "id": "5bf48edc",
   "metadata": {},
   "source": [
    "Ans: Method overriding is a feature of object-oriented programming that allows a subclass to provide a different implementation of a method that is already defined in its superclass. The method in the subclass has the same name, parameters, and return type as the method in the superclass. This allows the subclass to inherit the common behavior of the superclass, while still allowing it to provide its own unique behavior."
   ]
  },
  {
   "cell_type": "code",
   "execution_count": 5,
   "id": "4b75d566",
   "metadata": {},
   "outputs": [
    {
     "name": "stdout",
     "output_type": "stream",
     "text": [
      "Bark\n",
      "Meow\n"
     ]
    }
   ],
   "source": [
    "class Animal:\n",
    "    def make_sound(self):\n",
    "        print(\"Animal makes a sound\")\n",
    "        \n",
    "class Dog(Animal):\n",
    "    def make_sound(self):\n",
    "        print(\"Bark\")\n",
    "        \n",
    "class Cat(Animal):\n",
    "    def make_sound(self):\n",
    "        print(\"Meow\")\n",
    "dog = Dog()\n",
    "dog.make_sound()\n",
    "\n",
    "cat = Cat()\n",
    "cat.make_sound()\n"
   ]
  },
  {
   "cell_type": "code",
   "execution_count": null,
   "id": "100caf08",
   "metadata": {},
   "outputs": [],
   "source": []
  }
 ],
 "metadata": {
  "kernelspec": {
   "display_name": "Python 3 (ipykernel)",
   "language": "python",
   "name": "python3"
  },
  "language_info": {
   "codemirror_mode": {
    "name": "ipython",
    "version": 3
   },
   "file_extension": ".py",
   "mimetype": "text/x-python",
   "name": "python",
   "nbconvert_exporter": "python",
   "pygments_lexer": "ipython3",
   "version": "3.10.4"
  }
 },
 "nbformat": 4,
 "nbformat_minor": 5
}
