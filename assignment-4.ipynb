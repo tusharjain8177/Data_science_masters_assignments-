{
 "cells": [
  {
   "cell_type": "markdown",
   "id": "358bd7cc",
   "metadata": {},
   "source": [
    "# Assignment-4"
   ]
  },
  {
   "cell_type": "markdown",
   "id": "8f638fc1",
   "metadata": {},
   "source": [
    "### 1. Which keyword is used to create a function? Create a function to return a list of odd numbers in the range of 1 to 25.\n",
    "\n",
    "Ans: `def` keyword is used to create a function"
   ]
  },
  {
   "cell_type": "code",
   "execution_count": 1,
   "id": "45e55db9",
   "metadata": {},
   "outputs": [
    {
     "name": "stdout",
     "output_type": "stream",
     "text": [
      "[1, 3, 5, 7, 9, 11, 13, 15, 17, 19, 21, 23, 25]\n"
     ]
    }
   ],
   "source": [
    "# Create a function to return a list of odd numbers in the range of 1 to 25.\n",
    "\n",
    "def return_odd_numbers():\n",
    "    lst = []\n",
    "    for i in range(1, 26):\n",
    "        if i%2 !=0:\n",
    "            lst.append(i)\n",
    "    return lst\n",
    "res = return_odd_numbers()\n",
    "print(res)"
   ]
  },
  {
   "cell_type": "markdown",
   "id": "7c367992",
   "metadata": {},
   "source": [
    "### 2. Why *args and **kwargs is used in some functions? Create a function each for *args and **kwargs to demonstrate their use."
   ]
  },
  {
   "cell_type": "markdown",
   "id": "d09d6be5",
   "metadata": {},
   "source": [
    "Ans: `*args` and `**kwargs` are used in functions to allow them to accept a variable number of arguments.\n",
    "- *args is used to send a non-keyworded variable length argument list to the function. It is used to pass a variable number of positional arguments to the function, which are then stored as a tuple.\n",
    "- **kwargs is used to send a keyworded variable length argument list to the function. It is used to pass a variable number of keyword arguments to the function, which are then stored as a dictionary."
   ]
  },
  {
   "cell_type": "code",
   "execution_count": 2,
   "id": "0dd17c4a",
   "metadata": {},
   "outputs": [
    {
     "name": "stdout",
     "output_type": "stream",
     "text": [
      "Positional arguments: (1, 2, 3, 4)\n",
      "Keyword arguments: {'a': 1, 'b': 2, 'c': 3}\n"
     ]
    }
   ],
   "source": [
    "def print_args(*args):\n",
    "    print(\"Positional arguments:\", args)\n",
    "\n",
    "def print_kwargs(**kwargs):\n",
    "    print(\"Keyword arguments:\", kwargs)\n",
    "\n",
    "print_args(1,2,3,4)\n",
    "print_kwargs(a=1,b=2,c=3)"
   ]
  },
  {
   "cell_type": "markdown",
   "id": "a343d029",
   "metadata": {},
   "source": [
    "### 3. What is an iterator in python? Name the method used to initialise the iterator object and the method used for iteration. Use these methods to print the first five elements of the given list [2, 4, 6, 8, 10, 12, 14, 16,\n",
    "18, 20]."
   ]
  },
  {
   "cell_type": "markdown",
   "id": "0e7f0890",
   "metadata": {},
   "source": [
    "Ans: An iterator in Python is an object that can be iterated (looped) upon. Iterators are used to represent a stream of data.\n",
    "Iterators implement two methods: __iter__() and __next__().\n",
    "The __iter__() method is used to initialize the iterator object, and it returns the iterator object itself.\n",
    "\n",
    "The __next__() method is used for iteration. It returns the next value from the iterator each time it is called. If there are no more items to return, it should raise StopIteration."
   ]
  },
  {
   "cell_type": "code",
   "execution_count": 3,
   "id": "9c1b8eb6",
   "metadata": {},
   "outputs": [
    {
     "name": "stdout",
     "output_type": "stream",
     "text": [
      "2\n",
      "4\n",
      "6\n",
      "8\n",
      "10\n"
     ]
    }
   ],
   "source": [
    "# Here is an example that uses these methods to print the first five elements of the list [2, 4, 6, 8, 10, 12, 14, 16, 18, 20]:\n",
    "class MyIterator:\n",
    "    def __init__(self, numbers):\n",
    "        self.numbers = numbers\n",
    "        self.index = 0\n",
    "    \n",
    "    def __iter__(self):\n",
    "        return self\n",
    "    \n",
    "    def __next__(self):\n",
    "        if self.index >= len(self.numbers):\n",
    "            raise StopIteration\n",
    "        result = self.numbers[self.index]\n",
    "        self.index += 1\n",
    "        return result\n",
    "\n",
    "def print_first_five(numbers):\n",
    "    my_iterator = MyIterator(numbers)\n",
    "    for i in range(5):\n",
    "        print(next(my_iterator))\n",
    "\n",
    "numbers = [2, 4, 6, 8, 10, 12, 14, 16, 18, 20]\n",
    "print_first_five(numbers)"
   ]
  },
  {
   "cell_type": "markdown",
   "id": "0133377b",
   "metadata": {},
   "source": [
    "### 4. What is a generator function in python? Why yield keyword is used? Give an example of a generator function."
   ]
  },
  {
   "cell_type": "markdown",
   "id": "14b207fa",
   "metadata": {},
   "source": [
    "Ans: A generator function in Python is a special type of function that returns a generator object. The generator function is defined using the yield keyword, instead of the return keyword. \n",
    "\n",
    "The yield keyword is used to return a value from the generator function and pause the function's execution. When the generator function is next called, it resumes execution from where it left off and yields the next value.\n",
    "\n"
   ]
  },
  {
   "cell_type": "code",
   "execution_count": 4,
   "id": "70664b97",
   "metadata": {},
   "outputs": [
    {
     "name": "stdout",
     "output_type": "stream",
     "text": [
      "1\n",
      "4\n",
      "9\n",
      "16\n"
     ]
    }
   ],
   "source": [
    "# Here is an example of a generator function that yields the squares of numbers:\n",
    "def square_number(numbers):\n",
    "    for number in numbers:\n",
    "        yield number**2\n",
    "numbers = [1,2,3,4,5,6,7,8,9,10]\n",
    "square_number = square_number(numbers)\n",
    "\n",
    "print(next(square_number))\n",
    "print(next(square_number))\n",
    "print(next(square_number))\n",
    "print(next(square_number))"
   ]
  },
  {
   "cell_type": "markdown",
   "id": "e2ba121a",
   "metadata": {},
   "source": [
    "### 5. Create a generator function for prime numbers less than 1000. Use the next() method to print the first 20 prime numbers."
   ]
  },
  {
   "cell_type": "code",
   "execution_count": 6,
   "id": "b1ebd2ae",
   "metadata": {},
   "outputs": [
    {
     "name": "stdout",
     "output_type": "stream",
     "text": [
      "2 3 5 7 11 13 17 19 23 29 31 37 41 43 47 53 59 61 67 71 "
     ]
    }
   ],
   "source": [
    "def prime_numbers():\n",
    "    yield 2\n",
    "    primes = [2]\n",
    "    number = 3\n",
    "    while number < 1000:\n",
    "        if all(number % p != 0 for p in primes if p <= number ** 0.5):\n",
    "            primes.append(number)\n",
    "            yield number\n",
    "        number += 2\n",
    "\n",
    "prime_gen = prime_numbers()\n",
    "for i in range(20):\n",
    "    print(next(prime_gen), end = \" \")"
   ]
  },
  {
   "cell_type": "code",
   "execution_count": null,
   "id": "93894a72",
   "metadata": {},
   "outputs": [],
   "source": []
  }
 ],
 "metadata": {
  "kernelspec": {
   "display_name": "Python 3 (ipykernel)",
   "language": "python",
   "name": "python3"
  },
  "language_info": {
   "codemirror_mode": {
    "name": "ipython",
    "version": 3
   },
   "file_extension": ".py",
   "mimetype": "text/x-python",
   "name": "python",
   "nbconvert_exporter": "python",
   "pygments_lexer": "ipython3",
   "version": "3.10.4"
  }
 },
 "nbformat": 4,
 "nbformat_minor": 5
}
