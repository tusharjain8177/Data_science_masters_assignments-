{
 "cells": [
  {
   "cell_type": "markdown",
   "id": "1082ea9b",
   "metadata": {},
   "source": [
    "# Assignment 10"
   ]
  },
  {
   "cell_type": "markdown",
   "id": "e0d96650",
   "metadata": {},
   "source": [
    "1. Which function is used to open a file? What are the different modes of opening a file? Explain each mode of file opening."
   ]
  },
  {
   "cell_type": "markdown",
   "id": "dea416ab",
   "metadata": {},
   "source": [
    "Ans: The open function is used to open a file in Python.\n",
    "\n",
    "The different modes of opening a file in Python are:\n",
    "\n",
    "1. 'r' (Read Only): This is the default mode. It opens the file for reading and the pointer is placed at the beginning of the file. If the file does not exist, it raises an error.\n",
    "2. 'w' (Write Only): It opens the file for writing. If the file exists, it truncates the file to zero length. If the file does not exist, it creates a new file for writing.\n",
    "3. 'a' (Append Only): It opens the file for writing. If the file exists, the pointer is placed at the end of the file and any data written to the file is appended to the end. If the file does not exist, it creates a new file for writing.\n",
    "4. 'x' (Exclusive Creation): It opens the file for writing. If the file already exists, it raises an error. If the file does not exist, it creates a new file for writing.\n",
    "5. 'b' (Binary): It is used to open a binary file for reading, writing, or appending.\n",
    "6. 't' (Text): It is used to open a text file for reading, writing, or appending. This is the default mode if the mode parameter is not specified."
   ]
  },
  {
   "cell_type": "code",
   "execution_count": 3,
   "id": "a0fc9a0e",
   "metadata": {},
   "outputs": [
    {
     "name": "stdout",
     "output_type": "stream",
     "text": [
      "Golden sunbeams dance through the trees,\n",
      "Birds chirping a melody.\n",
      "Nature's symphony for all to see,\n",
      "In this moment, pure serenity.\n"
     ]
    }
   ],
   "source": [
    "f = open(\"example.txt\", \"r\")\n",
    "print(f.read())\n",
    "f.close()"
   ]
  },
  {
   "cell_type": "code",
   "execution_count": 4,
   "id": "28166a2c",
   "metadata": {},
   "outputs": [],
   "source": [
    "with open(\"example.txt\", \"w\") as f:\n",
    "    f.write(\"This is the new content of the file.\")"
   ]
  },
  {
   "cell_type": "code",
   "execution_count": 5,
   "id": "ff52bc9d",
   "metadata": {},
   "outputs": [],
   "source": [
    "with open(\"example.txt\", \"a\") as f:\n",
    "    f.write(\"This is some additional content.\")"
   ]
  },
  {
   "cell_type": "code",
   "execution_count": 6,
   "id": "0cb23e6e",
   "metadata": {},
   "outputs": [
    {
     "name": "stdout",
     "output_type": "stream",
     "text": [
      "File already exists.\n"
     ]
    }
   ],
   "source": [
    "try:\n",
    "    with open(\"example.txt\", \"x\") as f:\n",
    "        f.write(\"This is the new content of the file.\")\n",
    "except FileExistsError:\n",
    "    print(\"File already exists.\")"
   ]
  },
  {
   "cell_type": "code",
   "execution_count": 7,
   "id": "a15cf8d6",
   "metadata": {},
   "outputs": [],
   "source": [
    "with open(\"example.bin\", \"wb\") as f:\n",
    "    f.write(b\"\\x00\\x01\\x02\\x03\")"
   ]
  },
  {
   "cell_type": "code",
   "execution_count": 8,
   "id": "34234c89",
   "metadata": {},
   "outputs": [
    {
     "name": "stdout",
     "output_type": "stream",
     "text": [
      "b'\\x00\\x01\\x02\\x03'\n"
     ]
    }
   ],
   "source": [
    "with open(\"example.bin\", \"rb\") as f:\n",
    "    data = f.read()\n",
    "    print(data)"
   ]
  },
  {
   "cell_type": "code",
   "execution_count": 9,
   "id": "46191e87",
   "metadata": {},
   "outputs": [],
   "source": [
    "with open(\"example.txt\", \"wt\") as f:\n",
    "    f.write(\"This is the new content of the file.\")"
   ]
  },
  {
   "cell_type": "code",
   "execution_count": 10,
   "id": "d1aa82f4",
   "metadata": {},
   "outputs": [
    {
     "name": "stdout",
     "output_type": "stream",
     "text": [
      "This is the new content of the file.\n"
     ]
    }
   ],
   "source": [
    "with open(\"example.txt\", \"rt\") as f:\n",
    "    content = f.read()\n",
    "    print(content)\n"
   ]
  },
  {
   "cell_type": "markdown",
   "id": "754ef425",
   "metadata": {},
   "source": [
    "2. Why close() function is used? Why is it important to close a file?"
   ]
  },
  {
   "cell_type": "markdown",
   "id": "d77a5ce7",
   "metadata": {},
   "source": [
    "Ans: The close() function is used to close an open file in Python. It is important to close a file because it frees up resources (such as memory) that the file was consuming while it was open, and also ensures that any changes made to the file are saved and properly written to disk.\n",
    "\n",
    "When you open a file in Python, the operating system reserves a portion of memory for it, and the file remains open and accessible to your program until you explicitly close it. If you open many files or large files and never close them, you could run out of memory and cause your program to crash or hang.\n",
    "\n",
    "Additionally, if you make changes to an open file and do not close it, those changes might not be saved, or could be saved only partially. Closing the file ensures that any buffered data is flushed to disk and all changes are persisted to the file.\n",
    "\n",
    "Therefore, it is a best practice to close a file as soon as you are done using it, to ensure that your program runs efficiently and that your data is properly saved. In Python, you can use the with statement to automatically close a file when you're done with it, so you don't need to remember to close it manually."
   ]
  },
  {
   "cell_type": "markdown",
   "id": "8a95d11c",
   "metadata": {},
   "source": [
    "3. Write a python program to create a text file. Write ‘I want to become a Data Scientist’ in that file. Then close the file. Open this file and read the content of the file."
   ]
  },
  {
   "cell_type": "code",
   "execution_count": 11,
   "id": "56d5c3a9",
   "metadata": {},
   "outputs": [
    {
     "name": "stdout",
     "output_type": "stream",
     "text": [
      "I want to become a Data Scientist\n"
     ]
    }
   ],
   "source": [
    "# Create a text file and write a sentence to it\n",
    "with open(\"myfile.txt\", \"w\") as file:\n",
    "    file.write(\"I want to become a Data Scientist\")\n",
    "\n",
    "# Close the file\n",
    "file.close()\n",
    "\n",
    "# Open the file and read its contents\n",
    "with open(\"myfile.txt\", \"r\") as file:\n",
    "    contents = file.read()\n",
    "    print(contents)"
   ]
  },
  {
   "cell_type": "markdown",
   "id": "0b8040fa",
   "metadata": {},
   "source": [
    "4. The read(), readline(), and readlines() methods in Python are used to read the contents of a text file."
   ]
  },
  {
   "cell_type": "markdown",
   "id": "1e5521b9",
   "metadata": {},
   "source": [
    "Ans: The read(), readline(), and readlines() methods in Python are used to read the contents of a text file.\n",
    "\n",
    "1. read() method: The read() method reads the entire contents of a file and returns it as a string. If the file is large, this method may consume a lot of memory. Here's an example:"
   ]
  },
  {
   "cell_type": "code",
   "execution_count": 12,
   "id": "a8868884",
   "metadata": {},
   "outputs": [
    {
     "name": "stdout",
     "output_type": "stream",
     "text": [
      "I want to become a Data Scientist\n"
     ]
    }
   ],
   "source": [
    "with open(\"myfile.txt\", \"r\") as file:\n",
    "    contents = file.read()\n",
    "    print(contents)"
   ]
  },
  {
   "cell_type": "markdown",
   "id": "2e182813",
   "metadata": {},
   "source": [
    "2. readline() method: The readline() method reads a single line from a file and returns it as a string. You can use a loop to read all the lines in a file, one line at a time. Here's an example:"
   ]
  },
  {
   "cell_type": "code",
   "execution_count": 13,
   "id": "b4a1c24d",
   "metadata": {},
   "outputs": [
    {
     "name": "stdout",
     "output_type": "stream",
     "text": [
      "I want to become a Data Scientist\n"
     ]
    }
   ],
   "source": [
    "with open(\"myfile.txt\", \"r\") as file:\n",
    "    line = file.readline()\n",
    "    while line:\n",
    "        print(line)\n",
    "        line = file.readline()\n"
   ]
  },
  {
   "cell_type": "markdown",
   "id": "5b378813",
   "metadata": {},
   "source": [
    "3. readlines() method: The readlines() method reads all the lines in a file and returns them as a list of strings. Here's an example:"
   ]
  },
  {
   "cell_type": "code",
   "execution_count": 14,
   "id": "454c1898",
   "metadata": {},
   "outputs": [
    {
     "name": "stdout",
     "output_type": "stream",
     "text": [
      "I want to become a Data Scientist\n"
     ]
    }
   ],
   "source": [
    "with open(\"myfile.txt\", \"r\") as file:\n",
    "    lines = file.readlines()\n",
    "    for line in lines:\n",
    "        print(line)"
   ]
  },
  {
   "cell_type": "markdown",
   "id": "3694082b",
   "metadata": {},
   "source": [
    "5. Explain why with statement is used with open(). What is the advantage of using with statement and open() together?"
   ]
  },
  {
   "cell_type": "markdown",
   "id": "07186888",
   "metadata": {},
   "source": [
    "Ans: The with statement is used with the open() function in Python to provide a convenient way to work with files. The with statement creates a context in which the file is automatically closed after the block of code within the with statement is executed, even if an exception is raised. This eliminates the need for you to remember to close the file explicitly, which can prevent resource leaks and make your code more robust.\n",
    "\n",
    "Here's an example of using the with statement and open() function to read the contents of a file:"
   ]
  },
  {
   "cell_type": "code",
   "execution_count": 15,
   "id": "d6b8cad6",
   "metadata": {},
   "outputs": [
    {
     "name": "stdout",
     "output_type": "stream",
     "text": [
      "I want to become a Data Scientist\n"
     ]
    }
   ],
   "source": [
    "with open(\"myfile.txt\", \"r\") as file:\n",
    "    contents = file.read()\n",
    "    print(contents)"
   ]
  },
  {
   "cell_type": "markdown",
   "id": "a96ddce8",
   "metadata": {},
   "source": [
    "6. Explain the write() and writelines() functions. Give a suitable example."
   ]
  },
  {
   "cell_type": "code",
   "execution_count": 16,
   "id": "18a9fb76",
   "metadata": {},
   "outputs": [],
   "source": [
    "# The write() and writelines() functions in Python are used to write text data to a file.\n",
    "# 1. write() function: The write() function writes a string to a file. Here's an example:\n",
    "\n",
    "with open(\"myfile.txt\", \"w\") as file:\n",
    "    file.write(\"I want to become a Data Scientist\")\n"
   ]
  },
  {
   "cell_type": "code",
   "execution_count": 17,
   "id": "763e9e6f",
   "metadata": {},
   "outputs": [],
   "source": [
    "with open(\"myfile.txt\", \"w\") as file:\n",
    "    lines = [\"I want to become a Data Scientist\\n\", \"Data Science is a fascinating field\\n\"]\n",
    "    file.writelines(lines)\n"
   ]
  },
  {
   "cell_type": "code",
   "execution_count": 18,
   "id": "5b076470",
   "metadata": {},
   "outputs": [
    {
     "name": "stderr",
     "output_type": "stream",
     "text": [
      "warning: LF will be replaced by CRLF in .ipynb_checkpoints/Untitled-checkpoint.ipynb.\n",
      "The file will have its original line endings in your working directory\n",
      "warning: LF will be replaced by CRLF in Untitled.ipynb.\n",
      "The file will have its original line endings in your working directory\n",
      "warning: LF will be replaced by CRLF in .ipynb_checkpoints/Assignment-10-checkpoint.ipynb.\n",
      "The file will have its original line endings in your working directory\n",
      "warning: LF will be replaced by CRLF in Assignment-10.ipynb.\n",
      "The file will have its original line endings in your working directory\n"
     ]
    }
   ],
   "source": [
    "!git add ."
   ]
  },
  {
   "cell_type": "code",
   "execution_count": 19,
   "id": "5948f472",
   "metadata": {},
   "outputs": [
    {
     "name": "stdout",
     "output_type": "stream",
     "text": [
      "[master 6f79822] hi\n",
      " 7 files changed, 425 insertions(+), 44 deletions(-)\n",
      " create mode 100644 .ipynb_checkpoints/Assignment-10-checkpoint.ipynb\n",
      " create mode 100644 Assignment-10.ipynb\n",
      " create mode 100644 example.bin\n",
      " create mode 100644 example.txt\n",
      " create mode 100644 myfile.txt\n"
     ]
    }
   ],
   "source": [
    "!git commit -m \"hi\""
   ]
  },
  {
   "cell_type": "code",
   "execution_count": null,
   "id": "1c96e220",
   "metadata": {},
   "outputs": [],
   "source": []
  }
 ],
 "metadata": {
  "kernelspec": {
   "display_name": "Python 3 (ipykernel)",
   "language": "python",
   "name": "python3"
  },
  "language_info": {
   "codemirror_mode": {
    "name": "ipython",
    "version": 3
   },
   "file_extension": ".py",
   "mimetype": "text/x-python",
   "name": "python",
   "nbconvert_exporter": "python",
   "pygments_lexer": "ipython3",
   "version": "3.10.4"
  }
 },
 "nbformat": 4,
 "nbformat_minor": 5
}
