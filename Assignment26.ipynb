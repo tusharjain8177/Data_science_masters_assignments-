{
 "cells": [
  {
   "cell_type": "markdown",
   "id": "299a69de",
   "metadata": {},
   "source": [
    "# Assignment 26"
   ]
  },
  {
   "cell_type": "markdown",
   "id": "93a20b61",
   "metadata": {},
   "source": [
    "**1. What is Matplotlib? Why is it used? Name five plots that can be plotted using the Pyplot module of Matplotlib.**"
   ]
  },
  {
   "cell_type": "markdown",
   "id": "58fc1f46",
   "metadata": {},
   "source": [
    "**Ans:** Matplotlib is a data visualization library in Python used for creating static, interactive, and animated visualizations in Python. It is a popular tool for creating various types of graphs, plots, charts, and other visualizations to analyze and present data in a meaningful way. It provides a comprehensive set of tools for creating high-quality visualizations and customizing them to meet specific needs.\n",
    "\n",
    "Matplotlib is used in various fields, including data science, machine learning, finance, biology, engineering, and many more. It allows users to create a wide range of visualizations, such as line plots, scatter plots, bar plots, histograms, pie charts, heat maps, and many more.\n",
    "\n",
    "The Pyplot module of Matplotlib provides a simple interface for creating various types of plots. Here are five types of plots that can be plotted using the Pyplot module of Matplotlib:\n",
    "\n",
    "    1. Line plot: A line plot is a basic plot that represents data as points connected by lines. It is used to display trends and patterns in the data.\n",
    "    2. Scatter plot: A scatter plot is used to represent the relationship between two variables. It plots points on a two-dimensional plane, with each point representing an observation.\n",
    "    3. Bar plot: A bar plot is used to compare the values of different categories. It plots rectangular bars with heights proportional to the values they represent.\n",
    "    4. Histogram: A histogram is used to represent the distribution of a single variable. It plots the frequency of values in different bins or intervals.\n",
    "    5. Pie chart: A pie chart is used to represent the composition of a data set. It shows the relative sizes of different categories as slices of a pie."
   ]
  },
  {
   "cell_type": "markdown",
   "id": "ab93756c",
   "metadata": {},
   "source": [
    "**2. What is a scatter plot? Use the following code to generate data for x and y. Using this generated data plot a scatter plot.**\n",
    "```python\n",
    "    import numpy as np\n",
    "    np.random.seed(3)\n",
    "    x = 3 + np.random.normal(0, 2, 50)\n",
    "    y = 3 + np.random.normal(0, 2, len(x))\n",
    "    Note: Also add title, xlabel, and ylabel to the plot.\n",
    "``` "
   ]
  },
  {
   "cell_type": "markdown",
   "id": "812fe825",
   "metadata": {},
   "source": [
    "**Ans**: A scatter plot is a type of plot used to display the relationship between two variables. It shows the values of two variables as dots on a two-dimensional plane, with one variable on the x-axis and the other variable on the y-axis. It is useful for identifying patterns and trends in data, as well as outliers and clusters."
   ]
  },
  {
   "cell_type": "code",
   "execution_count": 1,
   "id": "daff58d2",
   "metadata": {},
   "outputs": [
    {
     "data": {
      "image/png": "[encoded data removed]",
      "text/plain": [
       "<Figure size 432x288 with 1 Axes>"
      ]
     },
     "metadata": {
      "needs_background": "light"
     },
     "output_type": "display_data"
    }
   ],
   "source": [
    "import numpy as np\n",
    "import matplotlib.pyplot as plt\n",
    "\n",
    "np.random.seed(3)\n",
    "x = 3 + np.random.normal(0, 2, 50)\n",
    "y = 3 + np.random.normal(0, 2, len(x))\n",
    "\n",
    "plt.scatter(x, y)\n",
    "plt.title(\"Scatter Plot\")\n",
    "plt.xlabel(\"X\")\n",
    "plt.ylabel(\"Y\")\n",
    "plt.show()"
   ]
  },
  {
   "cell_type": "markdown",
   "id": "0efc3b95",
   "metadata": {},
   "source": [
    "**3. Why is the subplot() function used? Draw four line plots using the subplot() function.\n",
    "Use the following data:**\n",
    "```python\n",
    "    import numpy as np\n",
    "    For line 1: x = np.array([0, 1, 2, 3, 4, 5]) and y = np.array([0, 100, 200, 300, 400, 500])\n",
    "    For line 2: x = np.array([0, 1, 2, 3, 4, 5]) and y = np.array([50, 20, 40, 20, 60, 70])\n",
    "    For line 3: x = np.array([0, 1, 2, 3, 4, 5]) and y = np.array([10, 20, 30, 40, 50, 60])\n",
    "    For line 4: x = np.array([0, 1, 2, 3, 4, 5]) and y = np.array([200, 350, 250, 550, 450, 150])\n",
    "```"
   ]
  },
  {
   "cell_type": "markdown",
   "id": "dcde3ca7",
   "metadata": {},
   "source": [
    "**Ans**: The subplot() function in Matplotlib is used to create multiple plots in the same figure. It divides the figure into a grid of rows and columns and specifies the position of each plot using row, column, and index numbers. This function is useful when we want to compare different plots or show different aspects of the same data in one figure.\n",
    "\n"
   ]
  },
  {
   "cell_type": "code",
   "execution_count": 2,
   "id": "428cf092",
   "metadata": {},
   "outputs": [
    {
     "data": {
      "image/png": "[encoded data removed]",
      "text/plain": [
       "<Figure size 432x288 with 4 Axes>"
      ]
     },
     "metadata": {
      "needs_background": "light"
     },
     "output_type": "display_data"
    }
   ],
   "source": [
    "import numpy as np\n",
    "import matplotlib.pyplot as plt\n",
    "\n",
    "# Data for line 1\n",
    "x1 = np.array([0, 1, 2, 3, 4, 5])\n",
    "y1 = np.array([0, 100, 200, 300, 400, 500])\n",
    "\n",
    "# Data for line 2\n",
    "x2 = np.array([0, 1, 2, 3, 4, 5])\n",
    "y2 = np.array([50, 20, 40, 20, 60, 70])\n",
    "\n",
    "# Data for line 3\n",
    "x3 = np.array([0, 1, 2, 3, 4, 5])\n",
    "y3 = np.array([10, 20, 30, 40, 50, 60])\n",
    "\n",
    "# Data for line 4\n",
    "x4 = np.array([0, 1, 2, 3, 4, 5])\n",
    "y4 = np.array([200, 350, 250, 550, 450, 150])\n",
    "\n",
    "# Create a figure with 2 rows and 2 columns\n",
    "fig, axs = plt.subplots(2, 2)\n",
    "\n",
    "# Plot line 1 in the top-left subplot\n",
    "axs[0, 0].plot(x1, y1)\n",
    "axs[0, 0].set_title('Line 1')\n",
    "\n",
    "# Plot line 2 in the top-right subplot\n",
    "axs[0, 1].plot(x2, y2)\n",
    "axs[0, 1].set_title('Line 2')\n",
    "\n",
    "# Plot line 3 in the bottom-left subplot\n",
    "axs[1, 0].plot(x3, y3)\n",
    "axs[1, 0].set_title('Line 3')\n",
    "\n",
    "# Plot line 4 in the bottom-right subplot\n",
    "axs[1, 1].plot(x4, y4)\n",
    "axs[1, 1].set_title('Line 4')\n",
    "\n",
    "# Add a suptitle for the whole figure\n",
    "plt.suptitle('Line Plots')\n",
    "\n",
    "# Display the figure\n",
    "plt.show()"
   ]
  },
  {
   "cell_type": "markdown",
   "id": "6fb87485",
   "metadata": {},
   "source": [
    "**4. What is a bar plot? Why is it used? Using the following data plot a bar plot and a horizontal bar plot.**\n",
    "```python\n",
    "    import numpy as np\n",
    "    company = np.array([\"Apple\", \"Microsoft\", \"Google\", \"AMD\"])\n",
    "    profit = np.array([3000, 8000, 1000, 10000])\n",
    "```"
   ]
  },
  {
   "cell_type": "markdown",
   "id": "d5699170",
   "metadata": {},
   "source": [
    "**Ans:** A bar plot is a type of plot that displays categorical data with rectangular bars, where the height or length of each bar represents the value of the corresponding category. Bar plots are useful for comparing different categories or showing the distribution of data across categories."
   ]
  },
  {
   "cell_type": "code",
   "execution_count": 3,
   "id": "eb196fa8",
   "metadata": {},
   "outputs": [
    {
     "data": {
      "image/png": "[encoded data removed]",
      "text/plain": [
       "<Figure size 432x288 with 1 Axes>"
      ]
     },
     "metadata": {
      "needs_background": "light"
     },
     "output_type": "display_data"
    },
    {
     "data": {
      "image/png": "[encoded data removed]",
      "text/plain": [
       "<Figure size 432x288 with 1 Axes>"
      ]
     },
     "metadata": {
      "needs_background": "light"
     },
     "output_type": "display_data"
    }
   ],
   "source": [
    "import numpy as np\n",
    "import matplotlib.pyplot as plt\n",
    "\n",
    "# Data for the bar plot\n",
    "company = np.array([\"Apple\", \"Microsoft\", \"Google\", \"AMD\"])\n",
    "profit = np.array([3000, 8000, 1000, 10000])\n",
    "\n",
    "# Create a bar plot\n",
    "plt.bar(company, profit)\n",
    "plt.title('Bar Plot')\n",
    "plt.xlabel('Company')\n",
    "plt.ylabel('Profit')\n",
    "plt.show()\n",
    "\n",
    "# Create a horizontal bar plot\n",
    "plt.barh(company, profit)\n",
    "plt.title('Horizontal Bar Plot')\n",
    "plt.xlabel('Profit')\n",
    "plt.ylabel('Company')\n",
    "plt.show()"
   ]
  },
  {
   "cell_type": "markdown",
   "id": "1dbe4ab0",
   "metadata": {},
   "source": [
    "**5. What is a box plot? Why is it used? Using the following data plot a box plot.**\n",
    "```python\n",
    "    box1 = np.random.normal(100, 10, 200)\n",
    "    box2 = np.random.normal(90, 20, 200)\n",
    "```"
   ]
  },
  {
   "cell_type": "markdown",
   "id": "9936e48a",
   "metadata": {},
   "source": [
    "**Ans:** A box plot, also known as a box-and-whisker plot, is a type of plot that displays the distribution of data based on the quartiles, which divide the data into four equal parts, and outliers. A box plot consists of a box with whiskers extending from it, where the box represents the interquartile range (IQR) of the data, the whiskers represent the range of the data, and any points outside the whiskers represent outliers."
   ]
  },
  {
   "cell_type": "code",
   "execution_count": 4,
   "id": "992ed95c",
   "metadata": {},
   "outputs": [
    {
     "data": {
      "image/png": "[encoded data removed]",
      "text/plain": [
       "<Figure size 432x288 with 1 Axes>"
      ]
     },
     "metadata": {
      "needs_background": "light"
     },
     "output_type": "display_data"
    }
   ],
   "source": [
    "import numpy as np\n",
    "import matplotlib.pyplot as plt\n",
    "\n",
    "# Data for the box plot\n",
    "box1 = np.random.normal(100, 10, 200)\n",
    "box2 = np.random.normal(90, 20, 200)\n",
    "data = [box1, box2]\n",
    "\n",
    "# Create a box plot\n",
    "plt.boxplot(data)\n",
    "plt.title('Box Plot')\n",
    "plt.xticks([1, 2], ['Box 1', 'Box 2'])\n",
    "plt.ylabel('Data')\n",
    "plt.show()"
   ]
  },
  {
   "cell_type": "code",
   "execution_count": null,
   "id": "a236e8ff",
   "metadata": {},
   "outputs": [],
   "source": []
  }
 ],
 "metadata": {
  "kernelspec": {
   "display_name": "Python 3 (ipykernel)",
   "language": "python",
   "name": "python3"
  },
  "language_info": {
   "codemirror_mode": {
    "name": "ipython",
    "version": 3
   },
   "file_extension": ".py",
   "mimetype": "text/x-python",
   "name": "python",
   "nbconvert_exporter": "python",
   "pygments_lexer": "ipython3",
   "version": "3.10.4"
  }
 },
 "nbformat": 4,
 "nbformat_minor": 5
}
