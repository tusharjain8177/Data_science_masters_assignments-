{
 "cells": [
  {
   "cell_type": "markdown",
   "id": "7685145b",
   "metadata": {},
   "source": [
    "# Assignment 25"
   ]
  },
  {
   "cell_type": "markdown",
   "id": "cdb9bdf9",
   "metadata": {},
   "source": [
    "Consider the below code to answer further questions:\n",
    "\n",
    "```python\n",
    "import numpy as np\n",
    "list_ = [ ‘1’ , ’2’ , ‘3’ , ‘4’ , ‘5’ ]\n",
    "array_list = np.array(object = list_)\n",
    "```"
   ]
  },
  {
   "cell_type": "markdown",
   "id": "aacf5c7c",
   "metadata": {},
   "source": [
    "1. Is there any difference in the data type of variables list_ and array_list? If there is then write a code to print the data types of both the variables."
   ]
  },
  {
   "cell_type": "markdown",
   "id": "1785bd82",
   "metadata": {},
   "source": [
    "Ans: Yes, there is a difference in the data type of variables list_ and array_list.\n",
    "\n",
    "The variable list_ is a Python list object, while the variable array_list is a NumPy ndarray object."
   ]
  },
  {
   "cell_type": "code",
   "execution_count": 1,
   "id": "9b18d49f",
   "metadata": {},
   "outputs": [
    {
     "name": "stdout",
     "output_type": "stream",
     "text": [
      "Type of list_: <class 'list'>\n",
      "Type of array_list: <class 'numpy.ndarray'>\n"
     ]
    }
   ],
   "source": [
    "import numpy as np\n",
    "\n",
    "list_ = [ '1' , '2' , '3' , '4' , '5' ]\n",
    "array_list = np.array(object=list_)\n",
    "\n",
    "print(\"Type of list_:\", type(list_))\n",
    "print(\"Type of array_list:\", type(array_list))"
   ]
  },
  {
   "cell_type": "markdown",
   "id": "851e3eaf",
   "metadata": {},
   "source": [
    "2. Write a code to print the data type of each and every element of both the variables list_ and arra_list."
   ]
  },
  {
   "cell_type": "code",
   "execution_count": 2,
   "id": "9092d21d",
   "metadata": {},
   "outputs": [
    {
     "name": "stdout",
     "output_type": "stream",
     "text": [
      "Data types of elements in list_:\n",
      "<class 'str'>\n",
      "<class 'str'>\n",
      "<class 'str'>\n",
      "<class 'str'>\n",
      "<class 'str'>\n",
      "Data types of elements in array_list:\n",
      "<class 'numpy.str_'>\n",
      "<class 'numpy.str_'>\n",
      "<class 'numpy.str_'>\n",
      "<class 'numpy.str_'>\n",
      "<class 'numpy.str_'>\n"
     ]
    }
   ],
   "source": [
    "# Print data types of elements in list_\n",
    "print(\"Data types of elements in list_:\")\n",
    "for element in list_:\n",
    "    print(type(element))\n",
    "\n",
    "# Print data types of elements in array_list\n",
    "print(\"Data types of elements in array_list:\")\n",
    "for element in array_list:\n",
    "    print(type(element))"
   ]
  },
  {
   "cell_type": "markdown",
   "id": "73307354",
   "metadata": {},
   "source": [
    "3. Considering the following changes in the variable, array_list:\n",
    "\n",
    "    array_list = np.array(object = list_, dtype = int)\n",
    "    \n",
    "    Will there be any difference in the data type of the elements present in both the variables, list_ and arra_list? If so then print the data types of each and every element present in both the variables, list_ and arra_list."
   ]
  },
  {
   "cell_type": "markdown",
   "id": "b2af6ffc",
   "metadata": {},
   "source": [
    "Ans: Yes, there will be a difference in the data type of the elements present in list_ and array_list if we specify dtype=int when creating array_list. This is because we are explicitly telling NumPy to convert the elements in list_ to integers, rather than letting NumPy determine the data type automatically."
   ]
  },
  {
   "cell_type": "code",
   "execution_count": 3,
   "id": "9eca250d",
   "metadata": {},
   "outputs": [
    {
     "name": "stdout",
     "output_type": "stream",
     "text": [
      "Data types of elements in list_:\n",
      "<class 'int'>\n",
      "<class 'int'>\n",
      "<class 'int'>\n",
      "<class 'int'>\n",
      "<class 'int'>\n",
      "Data types of elements in array_list:\n",
      "<class 'numpy.int32'>\n",
      "<class 'numpy.int32'>\n",
      "<class 'numpy.int32'>\n",
      "<class 'numpy.int32'>\n",
      "<class 'numpy.int32'>\n"
     ]
    }
   ],
   "source": [
    "import numpy as np\n",
    "\n",
    "list_ = ['1', '2', '3', '4', '5']\n",
    "array_list = np.array(object=list_, dtype=int)\n",
    "\n",
    "# Print data types of elements in list_\n",
    "print(\"Data types of elements in list_:\")\n",
    "for element in list_:\n",
    "    print(type(int(element)))\n",
    "\n",
    "# Print data types of elements in array_list\n",
    "print(\"Data types of elements in array_list:\")\n",
    "for element in array_list:\n",
    "    print(type(element))\n"
   ]
  },
  {
   "cell_type": "markdown",
   "id": "6e4ddf6c",
   "metadata": {},
   "source": [
    "4. Write a code to find the following characteristics of variable, num_array:\n",
    "      1. shape\n",
    "      2. size"
   ]
  },
  {
   "cell_type": "code",
   "execution_count": 4,
   "id": "5f10268a",
   "metadata": {},
   "outputs": [
    {
     "name": "stdout",
     "output_type": "stream",
     "text": [
      "Shape of num_array: (3, 4)\n",
      "Size of num_array: 12\n"
     ]
    }
   ],
   "source": [
    "import numpy as np\n",
    "\n",
    "# create a sample 2D ndarray with shape (3, 4)\n",
    "num_array = np.array([[1, 2, 3, 4], [5, 6, 7, 8], [9, 10, 11, 12]])\n",
    "\n",
    "# print the shape and size of the ndarray\n",
    "print(\"Shape of num_array:\", num_array.shape)\n",
    "print(\"Size of num_array:\", num_array.size)\n"
   ]
  },
  {
   "cell_type": "markdown",
   "id": "a093661f",
   "metadata": {},
   "source": [
    "5. Write a code to create numpy array of 3*3 matrix containing zeros only, using a numpy array creation function.\n",
    "\n",
    "    [Hint: The size of the array will be 9 and the shape will be (3,3).]"
   ]
  },
  {
   "cell_type": "code",
   "execution_count": 5,
   "id": "b059eb11",
   "metadata": {},
   "outputs": [
    {
     "name": "stdout",
     "output_type": "stream",
     "text": [
      "[[0. 0. 0.]\n",
      " [0. 0. 0.]\n",
      " [0. 0. 0.]]\n"
     ]
    }
   ],
   "source": [
    "import numpy as np\n",
    "\n",
    "# create a 3x3 array of zeros\n",
    "zeros_array = np.zeros((3, 3))\n",
    "\n",
    "# print the array\n",
    "print(zeros_array)"
   ]
  },
  {
   "cell_type": "markdown",
   "id": "d07aa2d9",
   "metadata": {},
   "source": [
    "6. Create an identity matrix of shape (5,5) using numpy functions?\n",
    "\n",
    "    [Hint: An identity matrix is a matrix containing 1 diagonally and other elements will be 0.]"
   ]
  },
  {
   "cell_type": "code",
   "execution_count": 6,
   "id": "0c7bed0b",
   "metadata": {},
   "outputs": [
    {
     "name": "stdout",
     "output_type": "stream",
     "text": [
      "[[1. 0. 0. 0. 0.]\n",
      " [0. 1. 0. 0. 0.]\n",
      " [0. 0. 1. 0. 0.]\n",
      " [0. 0. 0. 1. 0.]\n",
      " [0. 0. 0. 0. 1.]]\n"
     ]
    }
   ],
   "source": [
    "import numpy as np\n",
    "\n",
    "# create a 5x5 identity matrix\n",
    "identity_matrix = np.identity(5)\n",
    "\n",
    "# print the matrix\n",
    "print(identity_matrix)"
   ]
  },
  {
   "cell_type": "code",
   "execution_count": 7,
   "id": "fb93a683",
   "metadata": {},
   "outputs": [
    {
     "name": "stderr",
     "output_type": "stream",
     "text": [
      "warning: LF will be replaced by CRLF in .ipynb_checkpoints/Assignment25-checkpoint.ipynb.\n",
      "The file will have its original line endings in your working directory\n",
      "warning: LF will be replaced by CRLF in Assignment25.ipynb.\n",
      "The file will have its original line endings in your working directory\n"
     ]
    }
   ],
   "source": [
    "!git add ."
   ]
  },
  {
   "cell_type": "code",
   "execution_count": 9,
   "id": "2beb9e91",
   "metadata": {},
   "outputs": [
    {
     "name": "stderr",
     "output_type": "stream",
     "text": [
      "fatal: unable to access 'https://github.com/tusharjain8177/Data_science_masters_assignments-.git/': Failed to connect to github.com port 443 after 21140 ms: Timed out\n"
     ]
    }
   ],
   "source": []
  },
  {
   "cell_type": "code",
   "execution_count": null,
   "id": "c005fdc7",
   "metadata": {},
   "outputs": [],
   "source": []
  }
 ],
 "metadata": {
  "kernelspec": {
   "display_name": "Python 3 (ipykernel)",
   "language": "python",
   "name": "python3"
  },
  "language_info": {
   "codemirror_mode": {
    "name": "ipython",
    "version": 3
   },
   "file_extension": ".py",
   "mimetype": "text/x-python",
   "name": "python",
   "nbconvert_exporter": "python",
   "pygments_lexer": "ipython3",
   "version": "3.10.4"
  }
 },
 "nbformat": 4,
 "nbformat_minor": 5
}
