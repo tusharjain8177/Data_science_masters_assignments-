{
 "cells": [
  {
   "cell_type": "markdown",
   "id": "b9911b26",
   "metadata": {},
   "source": [
    "# Assignment 17"
   ]
  },
  {
   "cell_type": "markdown",
   "id": "2398a815",
   "metadata": {},
   "source": [
    "1. What is an API? Give an example, where an API is used in real life."
   ]
  },
  {
   "cell_type": "markdown",
   "id": "2937a5dd",
   "metadata": {},
   "source": [
    "Ans: API stands for Application Programming Interface. It is a set of protocols, routines, and tools for building software applications, which specify how software components should interact with each other. An API can be thought of as a way for different software systems to communicate with each other and exchange information.\n",
    "\n",
    "APIs are used in a variety of contexts, from web development to mobile apps and beyond. For example, social media platforms like Twitter and Facebook use APIs to allow third-party developers to access their data and functionality, so that they can build apps that integrate with the social media platforms. \n",
    "\n",
    "Here's an example: When you use a mobile app to order food for delivery, the app typically communicates with the restaurant's system using an API. The API allows the app to send the order details to the restaurant's system, which in turn can process the order and notify the delivery driver. Without the API, the app would not be able to communicate with the restaurant's system and the order could not be processed. \n",
    "\n",
    "Another example is the Google Maps API, which allows developers to integrate Google Maps into their own applications, such as ride-sharing apps, weather apps, and more. Developers can use the API to get location data, directions, and other information from Google Maps and display it in their own apps."
   ]
  },
  {
   "cell_type": "markdown",
   "id": "6f7129e7",
   "metadata": {},
   "source": [
    "2. Give advantages and disadvantages of using API."
   ]
  },
  {
   "cell_type": "markdown",
   "id": "9cb23a75",
   "metadata": {},
   "source": [
    "Ans: APIs, or Application Programming Interfaces, allow different software applications to communicate and exchange information with each other. APIs are widely used by developers to integrate functionality from different sources into their own software applications. \n",
    "\n",
    "Advantages of using APIs include:\n",
    "\n",
    "1. Increased efficiency: APIs provide a standard way for software applications to communicate and exchange information. This makes it easier for developers to integrate different functionalities without having to build everything from scratch, thereby saving time and resources.\n",
    "\n",
    "2. Improved flexibility: APIs enable software applications to be modular, allowing developers to easily add or remove functionality as needed. This can help organizations stay agile and adapt quickly to changing business requirements.\n",
    "\n",
    "3. Increased innovation: APIs can help spur innovation by making it easier for developers to build on existing technology and create new applications with innovative features and functionality.\n",
    "\n",
    "4. Improved user experience: APIs can help improve the user experience by enabling seamless integration of different software applications and services.\n",
    "\n",
    "Disadvantages of using APIs include:\n",
    "\n",
    "1. Security risks: APIs can expose data and functionality to external parties, which can increase the risk of security breaches and data leaks. It is important to properly secure APIs and ensure that only authorized parties can access them.\n",
    "\n",
    "2. Technical complexity: Working with APIs can require technical expertise and specialized knowledge. Developers need to be familiar with the specific API they are using and the protocols and data formats it uses.\n",
    "\n",
    "3. Dependence on third-party providers: APIs often rely on third-party providers, who may change their offerings or discontinue them altogether. This can cause problems for developers who have built their applications around a specific API.\n",
    "\n",
    "4. Versioning issues: APIs may change over time, and new versions may not be backward compatible with older versions. This can cause issues for developers who rely on a specific version of an API in their software application."
   ]
  },
  {
   "cell_type": "markdown",
   "id": "332fca9e",
   "metadata": {},
   "source": [
    "3. What is a Web API? Differentiate between API and Web API."
   ]
  },
  {
   "cell_type": "markdown",
   "id": "63566a33",
   "metadata": {},
   "source": [
    "Ans: An API (Application Programming Interface) is a set of protocols, routines, and tools for building software applications. It defines how software components should interact with each other, providing a way for different programs to communicate and exchange data.\n",
    "\n",
    "A Web API is a specific type of API that is designed to be accessed over the internet using HTTP. It provides a standardized way for different software systems to communicate with each other, allowing developers to create web applications that can access and manipulate data from remote servers.\n",
    "\n",
    "The main difference between an API and a Web API is that a Web API is specifically designed for use on the web, while an API can be used in any type of software application. A Web API is typically accessed using standard web protocols such as HTTP and HTTPS, and it often uses formats like JSON or XML to exchange data with other applications.\n",
    "\n",
    "In summary, while both APIs and Web APIs are used to facilitate communication between software systems, Web APIs are a specific type of API that is designed for use on the web and uses web-based protocols to exchange data."
   ]
  },
  {
   "cell_type": "markdown",
   "id": "62539a9d",
   "metadata": {},
   "source": [
    "4. Explain REST and SOAP Architecture. Mention shortcomings of SOAP."
   ]
  },
  {
   "cell_type": "markdown",
   "id": "ab602804",
   "metadata": {},
   "source": [
    "Ans: \n",
    "\n",
    "REST (Representational State Transfer) and SOAP (Simple Object Access Protocol) are two popular architectural styles used for building web services. \n",
    "\n",
    "REST is an architectural style that uses HTTP (Hypertext Transfer Protocol) methods to access and manipulate resources, where a resource can be anything that can be represented in a format such as XML or JSON. REST is a stateless client-server architecture, meaning that each request from the client contains all the necessary information to complete the request on the server without requiring the server to maintain session state. RESTful services use HTTP methods (GET, POST, PUT, DELETE) to access and manipulate resources.\n",
    "\n",
    "SOAP, on the other hand, is a messaging protocol used for exchanging structured information between web services. SOAP is based on XML and uses the HTTP protocol for communication, but unlike REST, it requires a specific message structure and formal contract (WSDL - Web Service Description Language) between the client and server. SOAP provides a set of rules for creating structured messages that can be transmitted over a variety of protocols, including HTTP, SMTP, and TCP.\n",
    "\n",
    "While SOAP has its advantages, it also has some significant drawbacks, including:\n",
    "\n",
    "1. Complexity: SOAP is a complex protocol, which requires a significant amount of effort to design, develop, and maintain the web services using it. This complexity can make it difficult to troubleshoot and debug issues when they arise.\n",
    "\n",
    "2. Performance: Because SOAP is based on XML, it tends to be slower and more resource-intensive than REST. The additional processing overhead required for XML parsing and processing can slow down the response time, particularly for large data sets.\n",
    "\n",
    "3. Limited browser support: SOAP is not natively supported by most web browsers, which can make it challenging to use in web-based applications. This lack of browser support can limit the audience for SOAP-based services and make it less suitable for public-facing applications.\n",
    "\n",
    "Overall, while SOAP can be useful in certain circumstances, REST has become"
   ]
  },
  {
   "cell_type": "markdown",
   "id": "ae21514f",
   "metadata": {},
   "source": [
    "5. Differentiate between REST and SOAP."
   ]
  },
  {
   "cell_type": "markdown",
   "id": "ce2f4dbf",
   "metadata": {},
   "source": [
    "Ans: REST and SOAP are two popular web service protocols that are used to transfer data over the internet. Here are the main differences between REST and SOAP:\n",
    "\n",
    "1. Architecture: REST (Representational State Transfer) is an architectural style that uses HTTP protocols, whereas SOAP (Simple Object Access Protocol) is a protocol that uses XML messaging.\n",
    "\n",
    "2. Data Format: REST can use different data formats such as JSON, XML, and HTML, while SOAP uses only XML.\n",
    "\n",
    "3. Communication: REST uses simple HTTP requests, such as GET, POST, PUT, and DELETE, to communicate between the client and the server. SOAP, on the other hand, uses a more complex protocol that involves XML messages, WSDL (Web Services Description Language), and SOAP envelopes.\n",
    "\n",
    "4. Ease of Use: REST is considered more user-friendly, as it requires less code and is easier to understand than SOAP.\n",
    "\n",
    "5. Security: SOAP provides built-in security features, such as WS-Security, for authentication, authorization, and encryption. REST, on the other hand, does not provide any built-in security features, and security must be implemented at the application level.\n",
    "\n",
    "6. Performance: REST is generally considered faster and more efficient than SOAP, as it uses smaller message sizes and can leverage the caching capabilities of HTTP.\n",
    "\n",
    "In summary, REST is a more lightweight, flexible, and easy-to-use protocol, while SOAP is more complex and provides more built-in security features. The choice between REST and SOAP depends on the specific requirements of the application and the preferences of the developer."
   ]
  },
  {
   "cell_type": "code",
   "execution_count": 4,
   "id": "82158f33",
   "metadata": {},
   "outputs": [
    {
     "name": "stderr",
     "output_type": "stream",
     "text": [
      "warning: LF will be replaced by CRLF in .ipynb_checkpoints/Assignment-17-checkpoint.ipynb.\n",
      "The file will have its original line endings in your working directory\n",
      "warning: LF will be replaced by CRLF in Assignment-17.ipynb.\n",
      "The file will have its original line endings in your working directory\n"
     ]
    }
   ],
   "source": [
    "!git add ."
   ]
  },
  {
   "cell_type": "code",
   "execution_count": 5,
   "id": "730b3d7a",
   "metadata": {},
   "outputs": [
    {
     "name": "stdout",
     "output_type": "stream",
     "text": [
      "[master 94fca93] hi\n",
      " 2 files changed, 189 insertions(+)\n",
      " create mode 100644 .ipynb_checkpoints/Assignment-17-checkpoint.ipynb\n",
      " create mode 100644 Assignment-17.ipynb\n"
     ]
    }
   ],
   "source": [
    "!git commit -m \"hi\""
   ]
  },
  {
   "cell_type": "code",
   "execution_count": null,
   "id": "a752acea",
   "metadata": {},
   "outputs": [],
   "source": []
  }
 ],
 "metadata": {
  "kernelspec": {
   "display_name": "Python 3 (ipykernel)",
   "language": "python",
   "name": "python3"
  },
  "language_info": {
   "codemirror_mode": {
    "name": "ipython",
    "version": 3
   },
   "file_extension": ".py",
   "mimetype": "text/x-python",
   "name": "python",
   "nbconvert_exporter": "python",
   "pygments_lexer": "ipython3",
   "version": "3.10.4"
  }
 },
 "nbformat": 4,
 "nbformat_minor": 5
}
