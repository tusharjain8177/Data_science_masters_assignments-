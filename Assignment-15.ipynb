{
 "cells": [
  {
   "cell_type": "markdown",
   "id": "ebd9d09d",
   "metadata": {},
   "source": [
    "# Assignment 15"
   ]
  },
  {
   "cell_type": "markdown",
   "id": "cef31cb0",
   "metadata": {},
   "source": [
    "1. What is a database? Differentiate between SQL and NoSQL databases."
   ]
  },
  {
   "cell_type": "markdown",
   "id": "974e5cb7",
   "metadata": {},
   "source": [
    "Ans: A database is a collection of data that is organized in a specific way to enable efficient storage, retrieval, and management of data. Databases are used to store data for a wide range of applications, including e-commerce, healthcare, finance, and social media.\n",
    "\n",
    "SQL and NoSQL are two types of database management systems, each with its own advantages and use cases. SQL databases are based on the relational database model, where data is stored in tables consisting of rows and columns, with relationships between tables defined using primary keys and foreign keys. SQL databases are known for their strong consistency, data integrity, and the ability to handle complex queries. Popular SQL databases include MySQL, PostgreSQL, and Oracle.\n",
    "\n",
    "NoSQL databases, on the other hand, are not based on the relational model and are designed to handle unstructured or semi-structured data, such as documents, graphs, or key-value pairs. NoSQL databases are known for their high scalability, availability, and the ability to handle large amounts of data. However, they may sacrifice some degree of consistency and data integrity in favor of performance and scalability. Examples of NoSQL databases include MongoDB, Cassandra, and Redis.\n",
    "\n",
    "In summary, SQL databases are suited for applications that require strong consistency and complex queries, while NoSQL databases are better suited for applications that require high scalability and performance with less emphasis on data consistency."
   ]
  },
  {
   "cell_type": "markdown",
   "id": "47af85ef",
   "metadata": {},
   "source": [
    "2. What is DDL? Explain why CREATE, DROP, ALTER, and TRUNCATE are used with an example."
   ]
  },
  {
   "cell_type": "markdown",
   "id": "4732c104",
   "metadata": {},
   "source": [
    "Ans: DDL stands for Data Definition Language, which is a subset of SQL used to define the structure and organization of data in a database. DDL statements are used to create, modify, and delete database objects such as tables, indexes, views, and constraints.\n",
    "\n",
    "The following are some commonly used DDL statements:\n",
    "\n",
    "\n",
    "CREATE: The CREATE statement is used to create a new database object, such as a table, index, or view. For example, the following SQL statement creates a new table named \"customers\":\n",
    "\n",
    "\n",
    "```sql\n",
    "CREATE TABLE customers (\n",
    "   id INT PRIMARY KEY,\n",
    "   name VARCHAR(255),\n",
    "   email VARCHAR(255)\n",
    ");\n",
    "```\n",
    "DROP: The DROP statement is used to delete a database object, such as a table or index. For example, the following SQL statement deletes the \"customers\" table:\n",
    "\n",
    "```sql\n",
    "DROP TABLE customers;\n",
    "```\n",
    "ALTER: The ALTER statement is used to modify the structure of an existing database object, such as a table or column. For example, the following SQL statement adds a new column named \"phone\" to the \"customers\" table:\n",
    "\n",
    "```sql\n",
    "ALTER TABLE customers ADD phone VARCHAR(20);\n",
    "```\n",
    "TRUNCATE: The TRUNCATE statement is used to delete all rows from a table, while keeping the table structure intact. For example, the following SQL statement removes all rows from the \"customers\" table:\n",
    "\n",
    "```sql\n",
    "TRUNCATE TABLE customers;\n",
    "```"
   ]
  },
  {
   "cell_type": "markdown",
   "id": "6aabfe71",
   "metadata": {},
   "source": [
    "3. What is DML? Explain INSERT, UPDATE, and DELETE with an example."
   ]
  },
  {
   "cell_type": "markdown",
   "id": "ac792579",
   "metadata": {},
   "source": [
    "Ans: DML stands for Data Manipulation Language, which is a subset of SQL used to manipulate the data stored in a database. DML statements are used to insert, update, delete, and retrieve data from tables in a database.\n",
    "\n",
    "The following are some commonly used DML statements:\n",
    "\n",
    "INSERT: The INSERT statement is used to insert new rows into a table. For example, the following SQL statement inserts a new row into the \"customers\" table:\n",
    "\n",
    "```sql\n",
    "INSERT INTO customers (id, name, email) VALUES (1, 'John Doe', 'johndoe@example.com');\n",
    "```\n",
    "UPDATE: The UPDATE statement is used to modify existing rows in a table. For example, the following SQL statement updates the email address of the customer with the ID of 1 in the \"customers\" table:\n",
    "```sql\n",
    "UPDATE customers SET email = 'newemail@example.com' WHERE id = 1;\n",
    "```\n",
    "DELETE: The DELETE statement is used to delete rows from a table. For example, the following SQL statement deletes the customer with the ID of 1 from the \"customers\" table:\n",
    "\n",
    "```sql\n",
    "DELETE FROM customers WHERE id = 1;\n",
    "```"
   ]
  },
  {
   "cell_type": "markdown",
   "id": "318be5cd",
   "metadata": {},
   "source": [
    "4. What is DQL? Explain SELECT with an example."
   ]
  },
  {
   "cell_type": "markdown",
   "id": "abfc8a42",
   "metadata": {},
   "source": [
    "Ans: DQL stands for Data Query Language, which is a subset of SQL used to retrieve data from a database. DQL statements are used to query data from one or more tables in a database.\n",
    "\n",
    "The following is an example of a commonly used DQL statement:\n",
    "\n",
    "SELECT: The SELECT statement is used to retrieve data from one or more tables in a database. For example, the following SQL statement retrieves all rows and columns from the \"customers\" table:\n",
    "\n",
    "```sql\n",
    "\n",
    "SELECT * FROM customers;\n",
    "```"
   ]
  },
  {
   "cell_type": "markdown",
   "id": "e1190fa4",
   "metadata": {},
   "source": [
    "5. Explain Primary Key and Foreign Key."
   ]
  },
  {
   "cell_type": "markdown",
   "id": "1103139b",
   "metadata": {},
   "source": [
    "Ans: In a relational database, a primary key is a column or a set of columns that uniquely identifies each row in a table. A primary key constraint ensures that the values in the primary key column(s) are unique and not null. A primary key is used to enforce data integrity, ensure data consistency, and facilitate fast data retrieval.\n",
    "\n",
    "For example, consider a table called \"students\" with the following columns:\n",
    "\n",
    "id   | name    | email\n",
    "---- | ------- | --------------\n",
    "1    | John    | john@example.com\n",
    "2    | Jane    | jane@example.com\n",
    "3    | Michael | michael@example.com\n"
   ]
  },
  {
   "cell_type": "markdown",
   "id": "77be94c9",
   "metadata": {},
   "source": [
    "6. Write a python code to connect MySQL to python. Explain the cursor() and execute() method."
   ]
  },
  {
   "cell_type": "code",
   "execution_count": 1,
   "id": "80dbaccc",
   "metadata": {},
   "outputs": [
    {
     "name": "stdout",
     "output_type": "stream",
     "text": [
      "<mysql.connector.connection_cext.CMySQLConnection object at 0x7fa28ae06220>\n",
      "('information_schema',)\n",
      "('mysql',)\n",
      "('performance_schema',)\n",
      "('sys',)\n",
      "('test',)\n"
     ]
    }
   ],
   "source": [
    "import mysql.connector\n",
    "mydb = mysql.connector.connect(\n",
    "  host=\"localhost\",\n",
    "  user=\"abc\",\n",
    "  password=\"password\"\n",
    ")\n",
    "print(mydb)\n",
    "mycursor = mydb.cursor()\n",
    "mycursor.execute(\"SHOW DATABASES\")\n",
    "for x in mycursor:\n",
    "  print(x)"
   ]
  },
  {
   "cell_type": "markdown",
   "id": "fd7299d3",
   "metadata": {},
   "source": [
    "7. Give the order of execution of SQL clauses in an SQL query."
   ]
  },
  {
   "cell_type": "markdown",
   "id": "6bcdb2a4",
   "metadata": {},
   "source": [
    "The order of execution of SQL clauses in an SQL query is as follows:\n",
    "\n",
    "1. FROM - specifies the table or tables to select data from\n",
    "2. JOIN - joins multiple tables together, if necessary\n",
    "3. WHERE - filters the data based on specified conditions\n",
    "4. GROUP BY - groups the data based on specified columns\n",
    "5. HAVING - filters the grouped data based on specified conditions\n",
    "6. SELECT - selects the columns to include in the output\n",
    "7. DISTINCT - removes duplicates from the output, if specified\n",
    "8. ORDER BY - orders the output based on specified columns\n",
    "9. LIMIT - limits the number of rows returned in the output, if specified"
   ]
  },
  {
   "cell_type": "markdown",
   "id": "9d2e7157",
   "metadata": {},
   "source": []
  }
 ],
 "metadata": {
  "kernelspec": {
   "display_name": "Python 3.8.10 64-bit",
   "language": "python",
   "name": "python3"
  },
  "language_info": {
   "codemirror_mode": {
    "name": "ipython",
    "version": 3
   },
   "file_extension": ".py",
   "mimetype": "text/x-python",
   "name": "python",
   "nbconvert_exporter": "python",
   "pygments_lexer": "ipython3",
   "version": "3.8.10"
  },
  "vscode": {
   "interpreter": {
    "hash": "e7370f93d1d0cde622a1f8e1c04877d8463912d04d973331ad4851f04de6915a"
   }
  }
 },
 "nbformat": 4,
 "nbformat_minor": 5
}
